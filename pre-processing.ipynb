{
 "cells": [
  {
   "cell_type": "markdown",
   "metadata": {},
   "source": [
    "# pre processing on dataset"
   ]
  },
  {
   "cell_type": "code",
   "execution_count": 1,
   "metadata": {},
   "outputs": [],
   "source": [
    "import pandas as pd\n",
    "import matplotlib.pyplot as plt\n",
    "from sklearn.cluster import KMeans\n",
    "import numpy as np\n",
    "import scipy as sp\n",
    "from scipy import stats\n",
    "import seaborn as sns \n",
    "import re\n",
    "import nltk\n",
    "from collections import Counter"
   ]
  },
  {
   "cell_type": "markdown",
   "metadata": {},
   "source": [
    "# load dataset tweets.csv"
   ]
  },
  {
   "cell_type": "code",
   "execution_count": 2,
   "metadata": {},
   "outputs": [
    {
     "name": "stdout",
     "output_type": "stream",
     "text": [
      "(6444, 28)\n"
     ]
    },
    {
     "data": {
      "text/html": [
       "<div>\n",
       "<style scoped>\n",
       "    .dataframe tbody tr th:only-of-type {\n",
       "        vertical-align: middle;\n",
       "    }\n",
       "\n",
       "    .dataframe tbody tr th {\n",
       "        vertical-align: top;\n",
       "    }\n",
       "\n",
       "    .dataframe thead th {\n",
       "        text-align: right;\n",
       "    }\n",
       "</style>\n",
       "<table border=\"1\" class=\"dataframe\">\n",
       "  <thead>\n",
       "    <tr style=\"text-align: right;\">\n",
       "      <th></th>\n",
       "      <th>id</th>\n",
       "      <th>handle</th>\n",
       "      <th>text</th>\n",
       "      <th>is_retweet</th>\n",
       "      <th>original_author</th>\n",
       "      <th>time</th>\n",
       "      <th>in_reply_to_screen_name</th>\n",
       "      <th>in_reply_to_status_id</th>\n",
       "      <th>in_reply_to_user_id</th>\n",
       "      <th>is_quote_status</th>\n",
       "      <th>...</th>\n",
       "      <th>place_type</th>\n",
       "      <th>place_country_code</th>\n",
       "      <th>place_country</th>\n",
       "      <th>place_contained_within</th>\n",
       "      <th>place_attributes</th>\n",
       "      <th>place_bounding_box</th>\n",
       "      <th>source_url</th>\n",
       "      <th>truncated</th>\n",
       "      <th>entities</th>\n",
       "      <th>extended_entities</th>\n",
       "    </tr>\n",
       "  </thead>\n",
       "  <tbody>\n",
       "    <tr>\n",
       "      <th>0</th>\n",
       "      <td>780925634159796224</td>\n",
       "      <td>HillaryClinton</td>\n",
       "      <td>The question in this election: Who can put the...</td>\n",
       "      <td>False</td>\n",
       "      <td>NaN</td>\n",
       "      <td>2016-09-28T00:22:34</td>\n",
       "      <td>NaN</td>\n",
       "      <td>NaN</td>\n",
       "      <td>NaN</td>\n",
       "      <td>False</td>\n",
       "      <td>...</td>\n",
       "      <td>NaN</td>\n",
       "      <td>NaN</td>\n",
       "      <td>NaN</td>\n",
       "      <td>NaN</td>\n",
       "      <td>NaN</td>\n",
       "      <td>NaN</td>\n",
       "      <td>https://studio.twitter.com</td>\n",
       "      <td>False</td>\n",
       "      <td>{'media': [{'display_url': 'pic.twitter.com/Xr...</td>\n",
       "      <td>{'media': [{'display_url': 'pic.twitter.com/Xr...</td>\n",
       "    </tr>\n",
       "    <tr>\n",
       "      <th>1</th>\n",
       "      <td>780916180899037184</td>\n",
       "      <td>HillaryClinton</td>\n",
       "      <td>Last night, Donald Trump said not paying taxes...</td>\n",
       "      <td>True</td>\n",
       "      <td>timkaine</td>\n",
       "      <td>2016-09-27T23:45:00</td>\n",
       "      <td>NaN</td>\n",
       "      <td>NaN</td>\n",
       "      <td>NaN</td>\n",
       "      <td>False</td>\n",
       "      <td>...</td>\n",
       "      <td>NaN</td>\n",
       "      <td>NaN</td>\n",
       "      <td>NaN</td>\n",
       "      <td>NaN</td>\n",
       "      <td>NaN</td>\n",
       "      <td>NaN</td>\n",
       "      <td>http://twitter.com</td>\n",
       "      <td>False</td>\n",
       "      <td>{'media': [{'display_url': 'pic.twitter.com/t0...</td>\n",
       "      <td>{'media': [{'display_url': 'pic.twitter.com/t0...</td>\n",
       "    </tr>\n",
       "    <tr>\n",
       "      <th>2</th>\n",
       "      <td>780911564857761793</td>\n",
       "      <td>HillaryClinton</td>\n",
       "      <td>Couldn't be more proud of @HillaryClinton. Her...</td>\n",
       "      <td>True</td>\n",
       "      <td>POTUS</td>\n",
       "      <td>2016-09-27T23:26:40</td>\n",
       "      <td>NaN</td>\n",
       "      <td>NaN</td>\n",
       "      <td>NaN</td>\n",
       "      <td>False</td>\n",
       "      <td>...</td>\n",
       "      <td>NaN</td>\n",
       "      <td>NaN</td>\n",
       "      <td>NaN</td>\n",
       "      <td>NaN</td>\n",
       "      <td>NaN</td>\n",
       "      <td>NaN</td>\n",
       "      <td>https://about.twitter.com/products/tweetdeck</td>\n",
       "      <td>False</td>\n",
       "      <td>{'user_mentions': [{'id_str': '1536791610', 'n...</td>\n",
       "      <td>NaN</td>\n",
       "    </tr>\n",
       "    <tr>\n",
       "      <th>3</th>\n",
       "      <td>780907038650068994</td>\n",
       "      <td>HillaryClinton</td>\n",
       "      <td>If we stand together, there's nothing we can't...</td>\n",
       "      <td>False</td>\n",
       "      <td>NaN</td>\n",
       "      <td>2016-09-27T23:08:41</td>\n",
       "      <td>NaN</td>\n",
       "      <td>NaN</td>\n",
       "      <td>NaN</td>\n",
       "      <td>False</td>\n",
       "      <td>...</td>\n",
       "      <td>NaN</td>\n",
       "      <td>NaN</td>\n",
       "      <td>NaN</td>\n",
       "      <td>NaN</td>\n",
       "      <td>NaN</td>\n",
       "      <td>NaN</td>\n",
       "      <td>https://studio.twitter.com</td>\n",
       "      <td>False</td>\n",
       "      <td>{'media': [{'display_url': 'pic.twitter.com/Q3...</td>\n",
       "      <td>{'media': [{'display_url': 'pic.twitter.com/Q3...</td>\n",
       "    </tr>\n",
       "    <tr>\n",
       "      <th>4</th>\n",
       "      <td>780897419462602752</td>\n",
       "      <td>HillaryClinton</td>\n",
       "      <td>Both candidates were asked about how they'd co...</td>\n",
       "      <td>False</td>\n",
       "      <td>NaN</td>\n",
       "      <td>2016-09-27T22:30:27</td>\n",
       "      <td>NaN</td>\n",
       "      <td>NaN</td>\n",
       "      <td>NaN</td>\n",
       "      <td>False</td>\n",
       "      <td>...</td>\n",
       "      <td>NaN</td>\n",
       "      <td>NaN</td>\n",
       "      <td>NaN</td>\n",
       "      <td>NaN</td>\n",
       "      <td>NaN</td>\n",
       "      <td>NaN</td>\n",
       "      <td>https://about.twitter.com/products/tweetdeck</td>\n",
       "      <td>False</td>\n",
       "      <td>{'user_mentions': [], 'symbols': [], 'urls': [...</td>\n",
       "      <td>NaN</td>\n",
       "    </tr>\n",
       "  </tbody>\n",
       "</table>\n",
       "<p>5 rows × 28 columns</p>\n",
       "</div>"
      ],
      "text/plain": [
       "                   id          handle  \\\n",
       "0  780925634159796224  HillaryClinton   \n",
       "1  780916180899037184  HillaryClinton   \n",
       "2  780911564857761793  HillaryClinton   \n",
       "3  780907038650068994  HillaryClinton   \n",
       "4  780897419462602752  HillaryClinton   \n",
       "\n",
       "                                                text  is_retweet  \\\n",
       "0  The question in this election: Who can put the...       False   \n",
       "1  Last night, Donald Trump said not paying taxes...        True   \n",
       "2  Couldn't be more proud of @HillaryClinton. Her...        True   \n",
       "3  If we stand together, there's nothing we can't...       False   \n",
       "4  Both candidates were asked about how they'd co...       False   \n",
       "\n",
       "  original_author                 time in_reply_to_screen_name  \\\n",
       "0             NaN  2016-09-28T00:22:34                     NaN   \n",
       "1        timkaine  2016-09-27T23:45:00                     NaN   \n",
       "2           POTUS  2016-09-27T23:26:40                     NaN   \n",
       "3             NaN  2016-09-27T23:08:41                     NaN   \n",
       "4             NaN  2016-09-27T22:30:27                     NaN   \n",
       "\n",
       "   in_reply_to_status_id  in_reply_to_user_id  is_quote_status  ...  \\\n",
       "0                    NaN                  NaN            False  ...   \n",
       "1                    NaN                  NaN            False  ...   \n",
       "2                    NaN                  NaN            False  ...   \n",
       "3                    NaN                  NaN            False  ...   \n",
       "4                    NaN                  NaN            False  ...   \n",
       "\n",
       "  place_type  place_country_code  place_country  place_contained_within  \\\n",
       "0        NaN                 NaN            NaN                     NaN   \n",
       "1        NaN                 NaN            NaN                     NaN   \n",
       "2        NaN                 NaN            NaN                     NaN   \n",
       "3        NaN                 NaN            NaN                     NaN   \n",
       "4        NaN                 NaN            NaN                     NaN   \n",
       "\n",
       "   place_attributes place_bounding_box  \\\n",
       "0               NaN                NaN   \n",
       "1               NaN                NaN   \n",
       "2               NaN                NaN   \n",
       "3               NaN                NaN   \n",
       "4               NaN                NaN   \n",
       "\n",
       "                                     source_url truncated  \\\n",
       "0                    https://studio.twitter.com     False   \n",
       "1                            http://twitter.com     False   \n",
       "2  https://about.twitter.com/products/tweetdeck     False   \n",
       "3                    https://studio.twitter.com     False   \n",
       "4  https://about.twitter.com/products/tweetdeck     False   \n",
       "\n",
       "                                            entities  \\\n",
       "0  {'media': [{'display_url': 'pic.twitter.com/Xr...   \n",
       "1  {'media': [{'display_url': 'pic.twitter.com/t0...   \n",
       "2  {'user_mentions': [{'id_str': '1536791610', 'n...   \n",
       "3  {'media': [{'display_url': 'pic.twitter.com/Q3...   \n",
       "4  {'user_mentions': [], 'symbols': [], 'urls': [...   \n",
       "\n",
       "                                   extended_entities  \n",
       "0  {'media': [{'display_url': 'pic.twitter.com/Xr...  \n",
       "1  {'media': [{'display_url': 'pic.twitter.com/t0...  \n",
       "2                                                NaN  \n",
       "3  {'media': [{'display_url': 'pic.twitter.com/Q3...  \n",
       "4                                                NaN  \n",
       "\n",
       "[5 rows x 28 columns]"
      ]
     },
     "execution_count": 2,
     "metadata": {},
     "output_type": "execute_result"
    }
   ],
   "source": [
    "# Read the CSV file\n",
    "data = pd.read_csv('tweets.csv')\n",
    "print (data.shape)\n",
    "# Display the first few rows of the dataframe\n",
    "data.head()"
   ]
  },
  {
   "cell_type": "code",
   "execution_count": 3,
   "metadata": {},
   "outputs": [],
   "source": [

    "data['text_copy'] = data['text'].copy()\n"
   ]
  },
  {
   "cell_type": "markdown",
   "metadata": {},
   "source": [

   ]
  },
  {
   "cell_type": "code",
   "execution_count": 4,
   "metadata": {},
   "outputs": [
    {
     "name": "stderr",
     "output_type": "stream",
     "text": [
      "[nltk_data] Downloading package stopwords to\n",
      "[nltk_data]     C:\\Users\\ailee\\AppData\\Roaming\\nltk_data...\n",
      "[nltk_data]   Package stopwords is already up-to-date!\n",
      "[nltk_data] Downloading package punkt to\n",
      "[nltk_data]     C:\\Users\\ailee\\AppData\\Roaming\\nltk_data...\n",
      "[nltk_data]   Package punkt is already up-to-date!\n"
     ]
    },
    {
     "data": {
      "text/plain": [
       "0                   question vote : put plans action ?\n",
       "1    last , trump paying taxes `` smart . '' call ?...\n",
       "2    could . vision command last vote showed ready ...\n",
       "3                    together , nothing . ready vote :\n",
       "4    candidates asked confront racial injustice . r...\n",
       "Name: text_copy, dtype: object"
      ]
     },
     "execution_count": 4,
     "metadata": {},
     "output_type": "execute_result"
    }
   ],
   "source": [
    "import pandas as pd\n",
    "import re\n",
    "import nltk\n",
    "from nltk.corpus import wordnet\n",
    "from sklearn.feature_extraction.text import CountVectorizer\n",
    "from nltk.corpus import stopwords\n",
    "\n",
    "# Ensure stopwords and tokenizer are available\n",
    "nltk.download(\"stopwords\")\n",
    "nltk.download(\"punkt\")\n",
    "\n",
    "# Define custom stopwords\n",
    "custom_stopwords = set(stopwords.words(\"english\"))\n",
    "custom_stopwords.update([\n",
    "    \"will\", \"people\", \"great\", \"and\", \"a\", \"to\", \"of\", \"that\", \"n't\", \"is\",'said','time', 'say','years','ca','amazing','best','good','help','sure','world','pay',\n",
    "    \"in\", \"s\", \"que\", \"de\", \"la\", \"at\", \"be\", \"the\", \"he\", \"she\", \"you\", \"amp\",'tomorrow','sad','day','need','know','night','got','want','says','\\'ve',\n",
    "    \"make\", \"one\", \"new\", '\\'s', '\\'d', '\\'re',' ca ', 'like','really', 'look','sad','ve','wow','thank','let','going','big','today','tonight','enjoy',\n",
    "    'love','plan','believe','life','demsinphilly','fight','millions','million','win','working','proud','support','stand','way','history','things','man','wants'\n",
    "])\n",
    "\n",
    "# Function to replace commonly abbreviated or colloquial terms\n",
    "def replace_chat_words(text):\n",
    "    chat_words = {\n",
    "        \"OMG\": \"oh my god\", \"LOL\": \"laugh out loud\", \"OOTD\": \"outfit of the day\",\n",
    "        \"NGL\": \"not gonna lie\", \"LMAO\": \"laugh my ass off\"\n",
    "    }\n",
    "    for word, expanded_form in chat_words.items():\n",
    "        text = re.sub(r\"\\b{}\\b\".format(word), expanded_form, text, flags=re.IGNORECASE)\n",
    "    return text\n",
    "\n",
    "# Function to group semantically similar words\n",
    "def replace_synonyms(text):\n",
    "    synonyms_map = {\n",
    "        \"job\": [\"work\", \"career\",'worker','workers','jobs'],\n",
    "        'makeamericagreatagain': ['makeamericagreat','americafirst'],\n",
    "        'family': ['families', 'family'],\n",
    "        'best': ['better'],\n",
    "        'right': ['rights'],\n",
    "        'ted': ['cruz'],\n",
    "        'american': ['americans','america','american','country','united'],\n",
    "        \"vote\": [\"poll\", \"election\",'debate','candidate'],\n",
    "        \"economy\": [\"finance\", \"market\",'tax','business'],\n",
    "        \"health\": [\"healthcare\", \"wellness\",'health','care','hospital','hospitals','nurse','insurance'],\n",
    "        \"nationalsecurity\": [\"migrant\", \"border\",'immigrant','immigrants','wall','terrorism','terrorist','terrorists','security','immigration'],\n",
    "        \"trump\":['trump2016'],\n",
    "        'president':['rncincle'],\n",
    "        'women':['woman']\n",
    "        \n",
    "        # Add more semantic groups here\n",
    "    }\n",
    "    # Specific rule to unify names\n",
    "    text = re.sub(r\"\\bhillary clinton\\b\", \"clinton\", text, flags=re.IGNORECASE)\n",
    "    text = re.sub(r\"\\bhillary\\b\", \"clinton\", text, flags=re.IGNORECASE)\n",
    "    text = re.sub(r\"\\bclinton\\b\", \"clinton\", text, flags=re.IGNORECASE)\n",
    "    \n",
    "    text = re.sub(r\"\\bdonald trump\\b\", \"trump\", text, flags=re.IGNORECASE)\n",
    "    text = re.sub(r\"\\bdonald\\b\", \"trump\", text, flags=re.IGNORECASE)\n",
    "    text = re.sub(r\"\\btrump\\b\", \"trump\", text, flags=re.IGNORECASE)\n",
    "    \n",
    "    for target, synonyms in synonyms_map.items():\n",
    "        pattern = r'\\b(?:' + '|'.join(synonyms) + r')\\b'\n",
    "        text = re.sub(pattern, target, text, flags=re.IGNORECASE)\n",
    "    return text\n",
    "\n",
    "# Function to clean and preprocess text\n",
    "def clean_text(text):\n",
    "    text = replace_chat_words(text)\n",
    "    text = replace_synonyms(text)\n",
    "    text = re.sub(r\"\\b\\d{1,3},?000\\b\", \"\", text)  # Remove numbers like \"1,000\", \"200000\", etc.\n",
    "    text = re.sub(r\"http\\S+\", \"\", text)  # Remove URLs\n",
    "    text = re.sub(r\"@\\w+\", \"\", text)  # Remove mentions\n",
    "    text = re.sub(r\"#\", \"\", text)  # Remove hashtags, but keep the word\n",
    "    tokens = nltk.word_tokenize(text)\n",
    "    tokens = [token.lower() for token in tokens if token.lower() not in custom_stopwords]\n",
    "    return \" \".join(tokens)\n",
    "\n",
    "# Load and preprocess the dataset\n",
    "data['text_copy'] = data['text_copy'].fillna('')\n",
    "data['text_copy'] = data['text_copy'].apply(clean_text)\n",
    "\n",
    "# Optional: View preprocessed text data\n",
    "data['text_copy'].head()\n"
   ]
  },
  {
   "cell_type": "code",
   "execution_count": 5,
   "metadata": {},
   "outputs": [
    {
     "name": "stdout",
     "output_type": "stream",
     "text": [
      "(6444,)\n"
     ]
    }
   ],
   "source": [
    "print(data['text_copy'].shape)"
   ]
  },
  {
   "cell_type": "code",
   "execution_count": 6,
   "metadata": {},
   "outputs": [],
   "source": [
    "themes_trump = {\n",
    "    \"American Patriotism\": ['american','makeamericagreatagain'],\n",
    "    'Election and Campaign': ['trump', 'american', 'makeamericagreatagain', 'president', 'iowa', 'york','campaign', 'republican','candidates'],\n",
    "    'Nation Security, Immigration, and Violence': ['nationalsecurity'],\n",
    "    'Trump\\'s Criticism to Media and Opponents': ['crooked', 'media', 'obama', 'bad', 'bernie', 'clinton', 'hillary'\n",
    "    ,'rubio', 'ted'],\n",
    "    \"Family Wellness\": ['family'],\n",
    "    \"Healthcare\": ['health'],\n",
    "    'Appealling people to Support': ['vote', 'join', 'speech'],\n",
    "    'Economy and Jobs': ['job']\n",
    "}\n",
    "\n",
    "themes_clinton = {\n",
    "    \"American Patriotism\": ['american','makeamericagreatagain'],\n",
    "    'Election and Campaign': ['trump', 'clinton', 'president', 'vote', 'campaign', 'american','candidates'],\n",
    "    'Economy and Jobs': ['economy', 'job'],\n",
    "    \"Healthcare\": ['health'],\n",
    "    'Social Issues (Women’s Rights, Kids, LGBT)': ['family', 'women', 'right', 'woman', 'kids', 'lgbt'],\n",
    "    'Nation Security, Immigration, and Violence': ['nationalsecurity', 'gun', 'violence','security'],\n",
    "    'Clinton\\'s Criticism to media and Opponents': ['trump'],\n",
    "    \"Family Wellness\": ['family'],\n",
    "    'Appealling people to Support': ['watch', 'live','speech', 'join','vote']\n",
    "}\n"
   ]
  },
  {
   "cell_type": "code",
   "execution_count": 7,
   "metadata": {},
   "outputs": [],
   "source": [
    "data['time'] = pd.to_datetime(data['time'])\n",
    "# Define a function to assign a theme based on the keywords in text\n",
    "def assign_theme(text, themes):\n",
    "    matched_themes = [theme for theme, keywords in themes.items() if any(keyword in text for keyword in keywords)]\n",
    "    return matched_themes if matched_themes else [\"Other\"]\n",
    "\n",
    "# Assign themes to each tweet\n",
    "data['themes'] = data.apply(\n",
    "    lambda row: assign_theme(row['text_copy'], themes_trump) if row['handle'] == 'realDonaldTrump' \n",
    "                else assign_theme(row['text_copy'], themes_clinton), axis=1)\n"
   ]
  },
  {
   "cell_type": "code",
   "execution_count": 8,
   "metadata": {},
   "outputs": [
    {
     "name": "stdout",
     "output_type": "stream",
     "text": [
      "Unique themes: ['Election and Campaign' 'Appealling people to Support'\n",
      " \"Clinton's Criticism to media and Opponents\" 'American Patriotism'\n",
      " 'Economy and Jobs' \"Trump's Criticism to Media and Opponents\" 'Other'\n",
      " 'Social Issues (Women’s Rights, Kids, LGBT)' 'Family Wellness'\n",
      " 'Healthcare' 'Nation Security, Immigration, and Violence']\n",
      "Theme counts:\n",
      "themes\n",
      "Election and Campaign                         3730\n",
      "Other                                         1336\n",
      "American Patriotism                           1208\n",
      "Appealling people to Support                  1152\n",
      "Trump's Criticism to Media and Opponents      1007\n",
      "Clinton's Criticism to media and Opponents     923\n",
      "Social Issues (Women’s Rights, Kids, LGBT)     523\n",
      "Economy and Jobs                               511\n",
      "Nation Security, Immigration, and Violence     340\n",
      "Family Wellness                                214\n",
      "Healthcare                                     114\n",
      "Name: count, dtype: int64\n"
     ]
    }
   ],
   "source": [

    "expanded_themes = data['themes'].explode()\n",
    "\n",

    "unique_themes = expanded_themes.unique()\n",
    "print(\"Unique themes:\", unique_themes)\n",
    "\n",

    "theme_counts = expanded_themes.value_counts()\n",
    "print(\"Theme counts:\")\n",
    "print(theme_counts)\n"
   ]
  },
  {
   "cell_type": "markdown",
   "metadata": {},
   "source": [

   ]
  },
  {
   "cell_type": "code",
   "execution_count": 9,
   "metadata": {},
   "outputs": [],
   "source": [
    "#accroding to the table, id (stands for user id) is not useful for the analysis, so we can drop it\n",
    "#source_url is also not useful for the analysis, so we can drop it\n",
    "#entities is also not useful for the analysis, so we can drop it\n",
    "data = data.drop(['id','source_url','entities'], axis=1)"
   ]
  },
  {
   "cell_type": "markdown",
   "metadata": {},
   "source": [
    "# Data cleaning"
   ]
  },
  {
   "cell_type": "markdown",
   "metadata": {},
   "source": [
    "The purpose of this section is to identidy useless attributes and enhance the efficiency on data visualisation."
   ]
  },
  {
   "cell_type": "code",
   "execution_count": 10,
   "metadata": {},
   "outputs": [
    {
     "name": "stdout",
     "output_type": "stream",
     "text": [
      "Requirement already satisfied: missingno in c:\\users\\ailee\\appdata\\local\\packages\\pythonsoftwarefoundation.python.3.11_qbz5n2kfra8p0\\localcache\\local-packages\\python311\\site-packages (0.5.2)\n",
      "Requirement already satisfied: numpy in c:\\users\\ailee\\appdata\\local\\packages\\pythonsoftwarefoundation.python.3.11_qbz5n2kfra8p0\\localcache\\local-packages\\python311\\site-packages (from missingno) (1.25.0)\n",
      "Requirement already satisfied: matplotlib in c:\\users\\ailee\\appdata\\local\\packages\\pythonsoftwarefoundation.python.3.11_qbz5n2kfra8p0\\localcache\\local-packages\\python311\\site-packages (from missingno) (3.7.1)\n",
      "Requirement already satisfied: scipy in c:\\users\\ailee\\appdata\\local\\packages\\pythonsoftwarefoundation.python.3.11_qbz5n2kfra8p0\\localcache\\local-packages\\python311\\site-packages (from missingno) (1.11.1)\n",
      "Requirement already satisfied: seaborn in c:\\users\\ailee\\appdata\\local\\packages\\pythonsoftwarefoundation.python.3.11_qbz5n2kfra8p0\\localcache\\local-packages\\python311\\site-packages (from missingno) (0.12.2)\n",
      "Requirement already satisfied: contourpy>=1.0.1 in c:\\users\\ailee\\appdata\\local\\packages\\pythonsoftwarefoundation.python.3.11_qbz5n2kfra8p0\\localcache\\local-packages\\python311\\site-packages (from matplotlib->missingno) (1.1.0)\n",
      "Requirement already satisfied: cycler>=0.10 in c:\\users\\ailee\\appdata\\local\\packages\\pythonsoftwarefoundation.python.3.11_qbz5n2kfra8p0\\localcache\\local-packages\\python311\\site-packages (from matplotlib->missingno) (0.11.0)\n",
      "Requirement already satisfied: fonttools>=4.22.0 in c:\\users\\ailee\\appdata\\local\\packages\\pythonsoftwarefoundation.python.3.11_qbz5n2kfra8p0\\localcache\\local-packages\\python311\\site-packages (from matplotlib->missingno) (4.40.0)\n",
      "Requirement already satisfied: kiwisolver>=1.0.1 in c:\\users\\ailee\\appdata\\local\\packages\\pythonsoftwarefoundation.python.3.11_qbz5n2kfra8p0\\localcache\\local-packages\\python311\\site-packages (from matplotlib->missingno) (1.4.4)\n",
      "Requirement already satisfied: packaging>=20.0 in c:\\users\\ailee\\appdata\\local\\packages\\pythonsoftwarefoundation.python.3.11_qbz5n2kfra8p0\\localcache\\local-packages\\python311\\site-packages (from matplotlib->missingno) (24.1)\n",
      "Requirement already satisfied: pillow>=6.2.0 in c:\\users\\ailee\\appdata\\local\\packages\\pythonsoftwarefoundation.python.3.11_qbz5n2kfra8p0\\localcache\\local-packages\\python311\\site-packages (from matplotlib->missingno) (10.0.0)\n",
      "Requirement already satisfied: pyparsing>=2.3.1 in c:\\users\\ailee\\appdata\\local\\packages\\pythonsoftwarefoundation.python.3.11_qbz5n2kfra8p0\\localcache\\local-packages\\python311\\site-packages (from matplotlib->missingno) (3.1.0)\n",
      "Requirement already satisfied: python-dateutil>=2.7 in c:\\users\\ailee\\appdata\\local\\packages\\pythonsoftwarefoundation.python.3.11_qbz5n2kfra8p0\\localcache\\local-packages\\python311\\site-packages (from matplotlib->missingno) (2.8.2)\n",
      "Requirement already satisfied: pandas>=0.25 in c:\\users\\ailee\\appdata\\local\\packages\\pythonsoftwarefoundation.python.3.11_qbz5n2kfra8p0\\localcache\\local-packages\\python311\\site-packages (from seaborn->missingno) (2.0.3)\n",
      "Requirement already satisfied: pytz>=2020.1 in c:\\users\\ailee\\appdata\\local\\packages\\pythonsoftwarefoundation.python.3.11_qbz5n2kfra8p0\\localcache\\local-packages\\python311\\site-packages (from pandas>=0.25->seaborn->missingno) (2023.3)\n",
      "Requirement already satisfied: tzdata>=2022.1 in c:\\users\\ailee\\appdata\\local\\packages\\pythonsoftwarefoundation.python.3.11_qbz5n2kfra8p0\\localcache\\local-packages\\python311\\site-packages (from pandas>=0.25->seaborn->missingno) (2023.3)\n",
      "Requirement already satisfied: six>=1.5 in c:\\users\\ailee\\appdata\\local\\packages\\pythonsoftwarefoundation.python.3.11_qbz5n2kfra8p0\\localcache\\local-packages\\python311\\site-packages (from python-dateutil>=2.7->matplotlib->missingno) (1.16.0)\n",
      "Note: you may need to restart the kernel to use updated packages.\n"
     ]
    },
    {
     "data": {
      "image/png": "[encoded data removed]",
      "text/plain": [
       "<Figure size 2500x1000 with 2 Axes>"
      ]
     },
     "metadata": {},
     "output_type": "display_data"
    }
   ],
   "source": [
    "# visualize missing values using Missingno Library\n",
    "# source:https://www.geeksforgeeks.org/python-visualize-missing-values-nan-values-using-missingno-library/\n",
    "# Legend the matrix. source: https://matplotlib.org/stable/api/_as_gen/matplotlib.patches.Patch.html\n",
    "%pip install missingno\n",
    "\n",
    "import missingno as msno\n",
    "import matplotlib.patches as mpatches\n",
    "\n",
    "msno.matrix(data)\n",
    "gray_patch = mpatches.Patch(color='grey', label='Data present')\n",
    "white_patch = mpatches.Patch(color='white', label='Data absent ')\n",
    "plt.legend(handles=[gray_patch, white_patch],loc='center left', bbox_to_anchor=(1, 0.5))\n",
    "\n",
    "plt.title('Presence of missing values in each column')\n",
    "plt.savefig('MissingValuesPresence')"
   ]
  },
  {
   "cell_type": "code",
   "execution_count": 11,
   "metadata": {},
   "outputs": [],
   "source": [
    "#drop columns with high proportion missing values\n",
    "data = data.drop(['original_author','in_reply_to_screen_name',\n",
    "                    'in_reply_to_status_id','in_reply_to_user_id',\n",
    "                    'longitude','latitude','place_id','place_full_name',\n",
    "                    'place_name','place_type','place_country_code',\n",
    "                    'place_country','place_contained_within','place_attributes',\n",
    "                    'place_bounding_box','extended_entities'], axis=1)"
   ]
  },
  {
   "cell_type": "code",
   "execution_count": 12,
   "metadata": {},
   "outputs": [
    {
     "name": "stdout",
     "output_type": "stream",
     "text": [
      "<class 'pandas.core.frame.DataFrame'>\n",
      "RangeIndex: 6444 entries, 0 to 6443\n",
      "Data columns (total 11 columns):\n",
      " #   Column           Non-Null Count  Dtype         \n",
      "---  ------           --------------  -----         \n",
      " 0   handle           6444 non-null   object        \n",
      " 1   text             6444 non-null   object        \n",
      " 2   is_retweet       6444 non-null   bool          \n",
      " 3   time             6444 non-null   datetime64[ns]\n",
      " 4   is_quote_status  6444 non-null   bool          \n",
      " 5   lang             6444 non-null   object        \n",
      " 6   retweet_count    6444 non-null   int64         \n",
      " 7   favorite_count   6444 non-null   int64         \n",
      " 8   truncated        6444 non-null   bool          \n",
      " 9   text_copy        6444 non-null   object        \n",
      " 10  themes           6444 non-null   object        \n",
      "dtypes: bool(3), datetime64[ns](1), int64(2), object(5)\n",
      "memory usage: 421.8+ KB\n"
     ]
    }
   ],
   "source": [
    "data.info()"
   ]
  },
  {
   "cell_type": "code",
   "execution_count": 13,
   "metadata": {},
   "outputs": [
    {
     "name": "stdout",
     "output_type": "stream",
     "text": [
      "<class 'pandas.core.frame.DataFrame'>\n",
      "RangeIndex: 6444 entries, 0 to 6443\n",
      "Data columns (total 5 columns):\n",
      " #   Column     Non-Null Count  Dtype \n",
      "---  ------     --------------  ----- \n",
      " 0   handle     6444 non-null   object\n",
      " 1   text       6444 non-null   object\n",
      " 2   lang       6444 non-null   object\n",
      " 3   text_copy  6444 non-null   object\n",
      " 4   themes     6444 non-null   object\n",
      "dtypes: object(5)\n",
      "memory usage: 251.8+ KB\n"
     ]
    }
   ],
   "source": [
    "# detect data type for each column so we can compare with contents displaied above.\n",
    "# detect categories\n",
    "cat = data.loc[:,data.dtypes == 'object']\n",
    "cat.info()"
   ]
  },
  {
   "cell_type": "code",
   "execution_count": 14,
   "metadata": {},
   "outputs": [],
   "source": [
    "data['time'] = pd.to_datetime(data['time'])\n",
    "data['date'] = data['time'].dt.date"
   ]
  },
  {
   "cell_type": "code",
   "execution_count": 15,
   "metadata": {},
   "outputs": [
    {
     "name": "stdout",
     "output_type": "stream",
     "text": [
      "<class 'pandas.core.frame.DataFrame'>\n",
      "RangeIndex: 6444 entries, 0 to 6443\n",
      "Data columns (total 6 columns):\n",
      " #   Column           Non-Null Count  Dtype         \n",
      "---  ------           --------------  -----         \n",
      " 0   is_retweet       6444 non-null   bool          \n",
      " 1   time             6444 non-null   datetime64[ns]\n",
      " 2   is_quote_status  6444 non-null   bool          \n",
      " 3   retweet_count    6444 non-null   int64         \n",
      " 4   favorite_count   6444 non-null   int64         \n",
      " 5   truncated        6444 non-null   bool          \n",
      "dtypes: bool(3), datetime64[ns](1), int64(2)\n",
      "memory usage: 170.0 KB\n"
     ]
    }
   ],
   "source": [
    "# detect numericals\n",
    "num = data.loc[:,data.dtypes != 'object']\n",
    "num.info()"
   ]
  },
  {
   "cell_type": "code",
   "execution_count": 16,
   "metadata": {},
   "outputs": [
    {
     "data": {
      "text/plain": [
       "handle             0\n",
       "text               0\n",
       "is_retweet         0\n",
       "time               0\n",
       "is_quote_status    0\n",
       "lang               0\n",
       "retweet_count      0\n",
       "favorite_count     0\n",
       "truncated          0\n",
       "text_copy          0\n",
       "themes             0\n",
       "date               0\n",
       "dtype: int64"
      ]
     },
     "execution_count": 16,
     "metadata": {},
     "output_type": "execute_result"
    }
   ],
   "source": [
    "#detect of missing values in each column.\n",
    "data.isna().sum()"
   ]
  },
  {
   "cell_type": "code",
   "execution_count": 17,
   "metadata": {},
   "outputs": [
    {
     "data": {
      "text/html": [
       "<div>\n",
       "<style scoped>\n",
       "    .dataframe tbody tr th:only-of-type {\n",
       "        vertical-align: middle;\n",
       "    }\n",
       "\n",
       "    .dataframe tbody tr th {\n",
       "        vertical-align: top;\n",
       "    }\n",
       "\n",
       "    .dataframe thead th {\n",
       "        text-align: right;\n",
       "    }\n",
       "</style>\n",
       "<table border=\"1\" class=\"dataframe\">\n",
       "  <thead>\n",
       "    <tr style=\"text-align: right;\">\n",
       "      <th></th>\n",
       "      <th>handle</th>\n",
       "      <th>text</th>\n",
       "      <th>is_retweet</th>\n",
       "      <th>time</th>\n",
       "      <th>is_quote_status</th>\n",
       "      <th>lang</th>\n",
       "      <th>retweet_count</th>\n",
       "      <th>favorite_count</th>\n",
       "      <th>truncated</th>\n",
       "      <th>text_copy</th>\n",
       "      <th>themes</th>\n",
       "      <th>date</th>\n",
       "    </tr>\n",
       "  </thead>\n",
       "  <tbody>\n",
       "    <tr>\n",
       "      <th>0</th>\n",
       "      <td>HillaryClinton</td>\n",
       "      <td>The question in this election: Who can put the...</td>\n",
       "      <td>False</td>\n",
       "      <td>2016-09-28 00:22:34</td>\n",
       "      <td>False</td>\n",
       "      <td>en</td>\n",
       "      <td>218</td>\n",
       "      <td>651</td>\n",
       "      <td>False</td>\n",
       "      <td>question vote : put plans action ?</td>\n",
       "      <td>[Election and Campaign, Appealling people to S...</td>\n",
       "      <td>2016-09-28</td>\n",
       "    </tr>\n",
       "    <tr>\n",
       "      <th>1</th>\n",
       "      <td>HillaryClinton</td>\n",
       "      <td>Last night, Donald Trump said not paying taxes...</td>\n",
       "      <td>True</td>\n",
       "      <td>2016-09-27 23:45:00</td>\n",
       "      <td>False</td>\n",
       "      <td>en</td>\n",
       "      <td>2445</td>\n",
       "      <td>5308</td>\n",
       "      <td>False</td>\n",
       "      <td>last , trump paying taxes `` smart . '' call ?...</td>\n",
       "      <td>[Election and Campaign, Clinton's Criticism to...</td>\n",
       "      <td>2016-09-27</td>\n",
       "    </tr>\n",
       "    <tr>\n",
       "      <th>2</th>\n",
       "      <td>HillaryClinton</td>\n",
       "      <td>Couldn't be more proud of @HillaryClinton. Her...</td>\n",
       "      <td>True</td>\n",
       "      <td>2016-09-27 23:26:40</td>\n",
       "      <td>False</td>\n",
       "      <td>en</td>\n",
       "      <td>7834</td>\n",
       "      <td>27234</td>\n",
       "      <td>False</td>\n",
       "      <td>could . vision command last vote showed ready ...</td>\n",
       "      <td>[Election and Campaign, Appealling people to S...</td>\n",
       "      <td>2016-09-27</td>\n",
       "    </tr>\n",
       "    <tr>\n",
       "      <th>3</th>\n",
       "      <td>HillaryClinton</td>\n",
       "      <td>If we stand together, there's nothing we can't...</td>\n",
       "      <td>False</td>\n",
       "      <td>2016-09-27 23:08:41</td>\n",
       "      <td>False</td>\n",
       "      <td>en</td>\n",
       "      <td>916</td>\n",
       "      <td>2542</td>\n",
       "      <td>False</td>\n",
       "      <td>together , nothing . ready vote :</td>\n",
       "      <td>[Election and Campaign, Appealling people to S...</td>\n",
       "      <td>2016-09-27</td>\n",
       "    </tr>\n",
       "    <tr>\n",
       "      <th>4</th>\n",
       "      <td>HillaryClinton</td>\n",
       "      <td>Both candidates were asked about how they'd co...</td>\n",
       "      <td>False</td>\n",
       "      <td>2016-09-27 22:30:27</td>\n",
       "      <td>False</td>\n",
       "      <td>en</td>\n",
       "      <td>859</td>\n",
       "      <td>2882</td>\n",
       "      <td>False</td>\n",
       "      <td>candidates asked confront racial injustice . r...</td>\n",
       "      <td>[Election and Campaign]</td>\n",
       "      <td>2016-09-27</td>\n",
       "    </tr>\n",
       "  </tbody>\n",
       "</table>\n",
       "</div>"
      ],
      "text/plain": [
       "           handle                                               text  \\\n",
       "0  HillaryClinton  The question in this election: Who can put the...   \n",
       "1  HillaryClinton  Last night, Donald Trump said not paying taxes...   \n",
       "2  HillaryClinton  Couldn't be more proud of @HillaryClinton. Her...   \n",
       "3  HillaryClinton  If we stand together, there's nothing we can't...   \n",
       "4  HillaryClinton  Both candidates were asked about how they'd co...   \n",
       "\n",
       "   is_retweet                time  is_quote_status lang  retweet_count  \\\n",
       "0       False 2016-09-28 00:22:34            False   en            218   \n",
       "1        True 2016-09-27 23:45:00            False   en           2445   \n",
       "2        True 2016-09-27 23:26:40            False   en           7834   \n",
       "3       False 2016-09-27 23:08:41            False   en            916   \n",
       "4       False 2016-09-27 22:30:27            False   en            859   \n",
       "\n",
       "   favorite_count  truncated  \\\n",
       "0             651      False   \n",
       "1            5308      False   \n",
       "2           27234      False   \n",
       "3            2542      False   \n",
       "4            2882      False   \n",
       "\n",
       "                                           text_copy  \\\n",
       "0                 question vote : put plans action ?   \n",
       "1  last , trump paying taxes `` smart . '' call ?...   \n",
       "2  could . vision command last vote showed ready ...   \n",
       "3                  together , nothing . ready vote :   \n",
       "4  candidates asked confront racial injustice . r...   \n",
       "\n",
       "                                              themes        date  \n",
       "0  [Election and Campaign, Appealling people to S...  2016-09-28  \n",
       "1  [Election and Campaign, Clinton's Criticism to...  2016-09-27  \n",
       "2  [Election and Campaign, Appealling people to S...  2016-09-27  \n",
       "3  [Election and Campaign, Appealling people to S...  2016-09-27  \n",
       "4                            [Election and Campaign]  2016-09-27  "
      ]
     },
     "execution_count": 17,
     "metadata": {},
     "output_type": "execute_result"
    }
   ],
   "source": [
    "data.head()"
   ]
  },
  {
   "cell_type": "code",
   "execution_count": 18,
   "metadata": {},
   "outputs": [
    {
     "data": {
      "text/plain": [
       "lang\n",
       "en    6248\n",
       "Name: count, dtype: int64"
      ]
     },
     "execution_count": 18,
     "metadata": {},
     "output_type": "execute_result"
    }
   ],
   "source": [
    "# only consider english tweets\n",
    "data = data[data['lang'] == 'en']\n",
    "data['lang'].value_counts()"
   ]
  },
  {
   "cell_type": "code",
   "execution_count": 19,
   "metadata": {},
   "outputs": [
    {
     "data": {
      "text/plain": [
       "handle\n",
       "realDonaldTrump    3131\n",
       "HillaryClinton     3117\n",
       "Name: count, dtype: int64"
      ]
     },
     "execution_count": 19,
     "metadata": {},
     "output_type": "execute_result"
    }
   ],
   "source": [
    "data['handle'].value_counts(dropna=False)"
   ]
  },
  {
   "cell_type": "markdown",
   "metadata": {},
   "source": [
    "## further cleaning for the text content"
   ]
  },
  {
   "cell_type": "markdown",
   "metadata": {},
   "source": [
    "To better analyze the semantics of the text, basic text cleaning is necessary. This includes removing unstructured content such as hyperlinks, emojis, and meaningless punctuation, among other elements."
   ]
  },
  {
   "cell_type": "code",
   "execution_count": 20,
   "metadata": {},
   "outputs": [
    {
     "name": "stderr",
     "output_type": "stream",
     "text": [
      "[nltk_data] Downloading package punkt to\n",
      "[nltk_data]     C:\\Users\\ailee\\AppData\\Roaming\\nltk_data...\n",
      "[nltk_data]   Package punkt is already up-to-date!\n",
      "[nltk_data] Downloading package stopwords to\n",
      "[nltk_data]     C:\\Users\\ailee\\AppData\\Roaming\\nltk_data...\n",
      "[nltk_data]   Package stopwords is already up-to-date!\n",
      "[nltk_data] Downloading package wordnet to\n",
      "[nltk_data]     C:\\Users\\ailee\\AppData\\Roaming\\nltk_data...\n",
      "[nltk_data]   Package wordnet is already up-to-date!\n"
     ]
    }
   ],
   "source": [
    "import nltk\n",
    "from nltk.corpus import stopwords\n",
    "from nltk.stem import WordNetLemmatizer\n",
    "nltk.download('punkt')\n",
    "nltk.download('stopwords')\n",
    "nltk.download('wordnet')\n",
    "\n",
    "lemmatizer = WordNetLemmatizer()\n",
    "# convert some emojis to text so keep the meaning of the text\n",
    "emoji_dict = {\n",
    "    u\"\\U0001F600\": \"happy\",  # grinning_face\n",
    "    u\"\\U0001F601\": \"happy\",  # beaming_face_with_smiling_eyes\n",
    "    u\"\\U0001F602\": \"laughing\",  # face_with_tears_of_joy\n",
    "    u\"\\U0001F603\": \"happy\",  # smiling_face_with_open_mouth\n",
    "    u\"\\U0001F604\": \"happy\",  # smiling_face_with_open_mouth_and_smiling_eyes\n",
    "    u\"\\U0001F606\": \"laughing\",  # smiling_face_with_open_mouth_and_closed_eyes\n",
    "    u\"\\U0001F609\": \"wink\",  # winking_face\n",
    "    u\"\\U0001F60A\": \"happy\",  # smiling_face_with_smiling_eyes\n",
    "    u\"\\U0001F60D\": \"love\",  # smiling_face_with_heart_eyes\n",
    "    u\"\\U0001F618\": \"kiss\",  # face_blowing_a_kiss\n",
    "    u\"\\U0001F621\": \"angry\",  # pouting_face\n",
    "    u\"\\U0001F622\": \"sad\",  # crying_face\n",
    "    u\"\\U0001F62D\": \"crying\",  # loudly_crying_face\n",
    "    u\"\\U0001F624\": \"frustrated\",  # face_with_steam_from_nose\n",
    "    u\"\\U0001F631\": \"scared\",  # face_screaming_in_fear\n",
    "    u\"\\U0001F62A\": \"tired\",  # sleepy_face\n",
    "    u\"\\U0001F44D\": \"thumbs_up\",  # thumbs_up\n",
    "    u\"\\U0001F44E\": \"thumbs_down\",  # thumbs_down\n",
    "    u\"\\U0001F923\": \"laughing\",  # rolling_on_the_floor_laughing\n",
    "    u\"\\U0001F620\": \"angry\",  # angry_face\n",
    "    u\"\\U0001F637\": \"sick\",  # face_with_medical_mask\n",
    "    u\"\\U0001F634\": \"sleeping\",  # sleeping_face\n",
    "    u\"\\U0001F644\": \"eyeroll\",  # face_with_rolling_eyes\n",
    "    u\"\\U0001F60B\": \"yummy\",  # face_savoring_food\n",
    "    u\"\\U0001F60C\": \"relieved\",  # relieved_face\n",
    "    u\"\\U0001F60F\": \"smirk\",  # smirking_face\n",
    "    u\"\\U0001F60E\": \"cool\",  # sunglasses\n",
    "    u\"\\U0001F62F\": \"surprised\"  # hushed_face\n",
    "}\n",
    "\n",
    "def replace_emoji(text):\n",
    "    for emoji, description in emoji_dict.items():\n",
    "        text = text.replace(emoji, f\" {description} \")\n",
    "    return ' '.join(text.split())\n",
    "    \n",
    "def replace_synonyms(text):\n",
    "    synonyms_map = {\n",
    "        \"job\": [\"work\", \"career\",'worker','workers','jobs'],\n",
    "        'makeamericagreatagain': ['makeamericagreat','americafirst'],\n",
    "        'family': ['families', 'family'],\n",
    "        'right': ['rights'],\n",
    "        'ted': ['cruz'],\n",
    "        'american': ['americans','america','american','country','united'],\n",
    "        \"vote\": [\"poll\", \"election\",'debate','candidate'],\n",
    "        \"economy\": [\"finance\", \"market\",'tax','business'],\n",
    "        \"health\": [\"healthcare\", \"wellness\",'health','care','hospital','hospitals','nurse','insurance'],\n",
    "        \"nationalsecurity\": [\"migrant\", \"border\",'immigrant','immigrants','wall','terrorism','terrorist','terrorists','security','immigration'],\n",
    "        \"trump\":['trump2016'],\n",
    "        'president':['rncincle'],\n",
    "        'women':['woman']\n",
    "        \n",
    "    }\n",
    "    # Specific rule to unify names\n",
    "    text = re.sub(r\"\\bhillary clinton\\b\", \"clinton\", text, flags=re.IGNORECASE)\n",
    "    text = re.sub(r\"\\bhillary\\b\", \"clinton\", text, flags=re.IGNORECASE)\n",
    "    text = re.sub(r\"\\bclinton\\b\", \"clinton\", text, flags=re.IGNORECASE)\n",
    "    \n",
    "    text = re.sub(r\"\\bdonald trump\\b\", \"trump\", text, flags=re.IGNORECASE)\n",
    "    text = re.sub(r\"\\bdonald\\b\", \"trump\", text, flags=re.IGNORECASE)\n",
    "    text = re.sub(r\"\\btrump\\b\", \"trump\", text, flags=re.IGNORECASE)\n",
    "    text = re.sub(r\"\\brealdonaldtrump\\b\", \"trump\",text,flags=re.IGNORECASE)\n",
    "    \n",
    "    for target, synonyms in synonyms_map.items():\n",
    "        pattern = r'\\b(?:' + '|'.join(synonyms) + r')\\b'\n",
    "        text = re.sub(pattern, target, text, flags=re.IGNORECASE)\n",
    "    return text\n",
    "# clean text\n",
    "def clean_text(text):\n",
    "    # convert emojis to text\n",
    "    text = replace_emoji(text)\n",
    "\n",
    "    # remove URLs\n",
    "    text = re.sub(r'http\\S+', '', text)\n",
    "    \n",
    "    # remove HTML tags\n",
    "    text = re.sub(r'<.*?>', '', text)\n",
    "\n",
    "    # remove ‘@’ mentions\n",
    "    text = re.sub(r\"@(\\w+)\", r\"\\1\", text)\n",
    "\n",
    "    # remove hashtags \n",
    "    text = re.sub(r\"#\\S+\", \"\", text)\n",
    "    \n",
    "    # remove multiple spaces\n",
    "    text = re.sub(r'\\s+', ' ', text, flags=re.I)\n",
    "    \n",
    "    # keep only alphabets\n",
    "    text = re.sub(r'[^a-zA-Z0-9]+', ' ', text)\n",
    "\n",
    "    # remove single characters that are meaningless, keep 'a', 'u' and 'I' as they are meaningful\n",
    "    text = re.sub(r'\\b[b-hj-tv-zB-HJ-TV-Z]\\b', '', text)\n",
    "\n",
    "    # remove numbers\n",
    "    text = re.sub(r'[0-9]+', '', text)\n",
    "\n",
    "    # split text into words and make them lowercase\n",
    "    tokens = nltk.word_tokenize(text)\n",
    "    tokens = [token.lower() for token in tokens]\n",
    "    tokens = [lemmatizer.lemmatize(token) for token in tokens]\n",
    "    \n",
    "    return \" \".join(tokens)\n",
    "\n",
    "# apply the functions to the text column\n",
    "data['cleaned_text'] = data['text'].apply(clean_text)\n",
    "data['cleaned_text'] = data['cleaned_text'].apply(replace_synonyms)\n",
    "\n",
    "# remove stopwords\n",
    "stop_words = set(stopwords.words('english'))\n",
    "stop_words.difference_update({'not', 'very', 'no', 'never'})\n",
    "data['cleaned_text'] = data['cleaned_text'].apply(lambda x: ' '.join([word for word in x.split() if word.lower() not in stop_words]))"
   ]
  },
  {
   "cell_type": "code",
   "execution_count": 21,
   "metadata": {},
   "outputs": [
    {
     "data": {
      "text/html": [
       "<div>\n",
       "<style scoped>\n",
       "    .dataframe tbody tr th:only-of-type {\n",
       "        vertical-align: middle;\n",
       "    }\n",
       "\n",
       "    .dataframe tbody tr th {\n",
       "        vertical-align: top;\n",
       "    }\n",
       "\n",
       "    .dataframe thead th {\n",
       "        text-align: right;\n",
       "    }\n",
       "</style>\n",
       "<table border=\"1\" class=\"dataframe\">\n",
       "  <thead>\n",
       "    <tr style=\"text-align: right;\">\n",
       "      <th></th>\n",
       "      <th>text</th>\n",
       "      <th>cleaned_text</th>\n",
       "    </tr>\n",
       "  </thead>\n",
       "  <tbody>\n",
       "    <tr>\n",
       "      <th>0</th>\n",
       "      <td>The question in this election: Who can put the...</td>\n",
       "      <td>question vote put plan action make life better</td>\n",
       "    </tr>\n",
       "    <tr>\n",
       "      <th>1</th>\n",
       "      <td>Last night, Donald Trump said not paying taxes...</td>\n",
       "      <td>last night trump said not paying economy wa sm...</td>\n",
       "    </tr>\n",
       "    <tr>\n",
       "      <th>2</th>\n",
       "      <td>Couldn't be more proud of @HillaryClinton. Her...</td>\n",
       "      <td>proud hillaryclinton vision command last night...</td>\n",
       "    </tr>\n",
       "    <tr>\n",
       "      <th>3</th>\n",
       "      <td>If we stand together, there's nothing we can't...</td>\n",
       "      <td>stand together nothing make sure ready vote</td>\n",
       "    </tr>\n",
       "    <tr>\n",
       "      <th>4</th>\n",
       "      <td>Both candidates were asked about how they'd co...</td>\n",
       "      <td>vote asked confront racial injustice one real ...</td>\n",
       "    </tr>\n",
       "  </tbody>\n",
       "</table>\n",
       "</div>"
      ],
      "text/plain": [
       "                                                text  \\\n",
       "0  The question in this election: Who can put the...   \n",
       "1  Last night, Donald Trump said not paying taxes...   \n",
       "2  Couldn't be more proud of @HillaryClinton. Her...   \n",
       "3  If we stand together, there's nothing we can't...   \n",
       "4  Both candidates were asked about how they'd co...   \n",
       "\n",
       "                                        cleaned_text  \n",
       "0     question vote put plan action make life better  \n",
       "1  last night trump said not paying economy wa sm...  \n",
       "2  proud hillaryclinton vision command last night...  \n",
       "3        stand together nothing make sure ready vote  \n",
       "4  vote asked confront racial injustice one real ...  "
      ]
     },
     "execution_count": 21,
     "metadata": {},
     "output_type": "execute_result"
    }
   ],
   "source": [
    "data[['text', 'cleaned_text']].head()"
   ]
  },
  {
   "cell_type": "code",
   "execution_count": 22,
   "metadata": {},
   "outputs": [
    {
     "data": {
      "text/plain": [
       "[('trump', 1775),\n",
       " ('clinton', 1192),\n",
       " ('american', 1028),\n",
       " ('vote', 710),\n",
       " ('not', 585),\n",
       " ('thank', 569),\n",
       " ('great', 534),\n",
       " ('people', 425),\n",
       " ('ha', 403),\n",
       " ('president', 400)]"
      ]
     },
     "execution_count": 22,
     "metadata": {},
     "output_type": "execute_result"
    }
   ],
   "source": [
    "# count words frequency in the cleaned text\n",
    "word_freq = Counter(\" \".join(data['cleaned_text']).split()).items()\n",
    "word_freq = sorted(word_freq, key=lambda x: x[1], reverse=True)\n",
    "word_freq[:10]\n"
   ]
  },
  {
   "cell_type": "markdown",
   "metadata": {},
   "source": [
    "According to the theme analysis, the sentiment analysis will focus on the following topics:\n"
   ]
  },
  {
   "cell_type": "markdown",
   "metadata": {},
   "source": [
    "# sentiment analysis"
   ]
  },
  {
   "cell_type": "code",
   "execution_count": 23,
   "metadata": {},
   "outputs": [
    {
     "name": "stderr",
     "output_type": "stream",
     "text": [
      "[nltk_data] Downloading package vader_lexicon to\n",
      "[nltk_data]     C:\\Users\\ailee\\AppData\\Roaming\\nltk_data...\n",
      "[nltk_data]   Package vader_lexicon is already up-to-date!\n"
     ]
    },
    {
     "data": {
      "text/html": [
       "<div>\n",
       "<style scoped>\n",
       "    .dataframe tbody tr th:only-of-type {\n",
       "        vertical-align: middle;\n",
       "    }\n",
       "\n",
       "    .dataframe tbody tr th {\n",
       "        vertical-align: top;\n",
       "    }\n",
       "\n",
       "    .dataframe thead th {\n",
       "        text-align: right;\n",
       "    }\n",
       "</style>\n",
       "<table border=\"1\" class=\"dataframe\">\n",
       "  <thead>\n",
       "    <tr style=\"text-align: right;\">\n",
       "      <th></th>\n",
       "      <th>cleaned_text</th>\n",
       "      <th>sentiment</th>\n",
       "    </tr>\n",
       "  </thead>\n",
       "  <tbody>\n",
       "    <tr>\n",
       "      <th>0</th>\n",
       "      <td>question vote put plan action make life better</td>\n",
       "      <td>0.4404</td>\n",
       "    </tr>\n",
       "    <tr>\n",
       "      <th>1</th>\n",
       "      <td>last night trump said not paying economy wa sm...</td>\n",
       "      <td>0.4019</td>\n",
       "    </tr>\n",
       "    <tr>\n",
       "      <th>2</th>\n",
       "      <td>proud hillaryclinton vision command last night...</td>\n",
       "      <td>0.7650</td>\n",
       "    </tr>\n",
       "    <tr>\n",
       "      <th>3</th>\n",
       "      <td>stand together nothing make sure ready vote</td>\n",
       "      <td>-0.4717</td>\n",
       "    </tr>\n",
       "    <tr>\n",
       "      <th>4</th>\n",
       "      <td>vote asked confront racial injustice one real ...</td>\n",
       "      <td>-0.6597</td>\n",
       "    </tr>\n",
       "  </tbody>\n",
       "</table>\n",
       "</div>"
      ],
      "text/plain": [
       "                                        cleaned_text  sentiment\n",
       "0     question vote put plan action make life better     0.4404\n",
       "1  last night trump said not paying economy wa sm...     0.4019\n",
       "2  proud hillaryclinton vision command last night...     0.7650\n",
       "3        stand together nothing make sure ready vote    -0.4717\n",
       "4  vote asked confront racial injustice one real ...    -0.6597"
      ]
     },
     "execution_count": 23,
     "metadata": {},
     "output_type": "execute_result"
    }
   ],
   "source": [
    "from nltk.sentiment.vader import SentimentIntensityAnalyzer\n",
    "#dwownload vader_lexicon\n",
    "nltk.download('vader_lexicon')\n",
    "#initialize the sentiment analyzer\n",
    "sid = SentimentIntensityAnalyzer()\n",
    "\n",
    "# calculate sentiment scores\n",
    "def get_sentiment(text):\n",
    "    return sid.polarity_scores(text)['compound']\n",
    "\n",
    "data['sentiment'] = data['cleaned_text'].apply(get_sentiment)\n",
    "\n",
    "data[['cleaned_text', 'sentiment']].head()"
   ]
  },
  {
   "cell_type": "code",
   "execution_count": 24,
   "metadata": {},
   "outputs": [
    {
     "data": {
      "image/png": "[encoded data removed]",
      "text/plain": [
       "<Figure size 1000x600 with 1 Axes>"
      ]
     },
     "metadata": {},
     "output_type": "display_data"
    }
   ],
   "source": [
    "#time series analysis\n",
    "#group by date and handle\n",
    "date_sentiment = data.groupby(['date', 'handle']).agg({'sentiment': 'mean'}).reset_index()\n",
    "\n",
    "plt.figure(figsize=(10, 6))\n",
    "\n",
    "for handle, group_data in date_sentiment.groupby('handle'):\n",
    "    plt.plot(group_data['date'], group_data['sentiment'], label=handle)\n",
    "\n",
    "plt.title('Sentiment over time by Handle')\n",
    "plt.xlabel('Date')\n",
    "plt.ylabel('Average Sentiment')\n",
    "plt.legend(title='Handle')  \n",
    "plt.xticks(rotation=45)  \n",
    "\n",
    "\n",
    "plt.savefig('SentimentOverTimeByHandle.png')\n",
    "plt.show()"
   ]
  },
  {
   "cell_type": "code",
   "execution_count": 25,
   "metadata": {},
   "outputs": [
    {
     "data": {
      "image/png": "[encoded data removed]",
      "text/plain": [
       "<Figure size 1200x600 with 1 Axes>"
      ]
     },
     "metadata": {},
     "output_type": "display_data"
    }
   ],
   "source": [
    "date_sentiment['sentiment_smooth'] = date_sentiment.groupby('handle')['sentiment'].transform(lambda x: x.rolling(window=7, min_periods=1).mean())\n",
    "\n",
    "\n",
    "plt.figure(figsize=(12, 6))\n",
    "\n",
    "\n",
    "for handle, group_data in date_sentiment.groupby('handle'):\n",
    "    plt.plot(group_data['date'], group_data['sentiment_smooth'], label=handle)\n",
    "\n",
    "plt.title('Sentiment Over Time by Handle (7-Day Moving Average)')\n",
    "plt.xlabel('Date')\n",
    "plt.ylabel('Average Sentiment')\n",
    "plt.legend(title='Handle', loc='upper left', bbox_to_anchor=(1, 1)) \n",
    "plt.grid(True)  \n",
    "plt.xticks(rotation=45)  \n",
    "\n",
    "\n",
    "plt.savefig('SentimentOverTimeByHandle_Smoothed.png', bbox_inches='tight')\n",
    "plt.show()"
   ]
  },
  {
   "cell_type": "code",
   "execution_count": 26,
   "metadata": {},
   "outputs": [
    {
     "data": {
      "application/vnd.plotly.v1+json": {
       "config": {
        "plotlyServerURL": "https://plot.ly"
       },
       "data": [
        {
         "hovertemplate": "handle=realDonaldTrump<br>Date=%{x}<br>Average Sentiment=%{y}<extra></extra>",
         "legendgroup": "realDonaldTrump",
         "line": {
          "color": "#636efa",
          "dash": "solid"
         },
         "marker": {
          "symbol": "circle"
         },
         "mode": "lines",
         "name": "realDonaldTrump",
         "orientation": "v",
         "showlegend": true,
         "type": "scatter",
         "x": [
          "2016-01-05",
          "2016-01-06",
          "2016-01-07",
          "2016-01-08",
          "2016-01-09",
          "2016-01-10",
          "2016-01-11",
          "2016-01-12",
          "2016-01-13",
          "2016-01-14",
          "2016-01-15",
          "2016-01-16",
          "2016-01-17",
          "2016-01-18",
          "2016-01-19",
          "2016-01-20",
          "2016-01-21",
          "2016-01-22",
          "2016-01-23",
          "2016-01-24",
          "2016-01-25",
          "2016-01-26",
          "2016-01-27",
          "2016-01-28",
          "2016-01-29",
          "2016-01-30",
          "2016-01-31",
          "2016-02-01",
          "2016-02-02",
          "2016-02-03",
          "2016-02-04",
          "2016-02-05",
          "2016-02-06",
          "2016-02-07",
          "2016-02-08",
          "2016-02-09",
          "2016-02-10",
          "2016-02-11",
          "2016-02-12",
          "2016-02-13",
          "2016-02-14",
          "2016-02-15",
          "2016-02-16",
          "2016-02-17",
          "2016-02-18",
          "2016-02-19",
          "2016-02-20",
          "2016-02-21",
          "2016-02-22",
          "2016-02-23",
          "2016-02-24",
          "2016-02-25",
          "2016-02-26",
          "2016-02-27",
          "2016-02-28",
          "2016-02-29",
          "2016-03-01",
          "2016-03-02",
          "2016-03-03",
          "2016-03-04",
          "2016-03-05",
          "2016-03-06",
          "2016-03-07",
          "2016-03-08",
          "2016-03-09",
          "2016-03-10",
          "2016-03-11",
          "2016-03-12",
          "2016-03-13",
          "2016-03-14",
          "2016-03-15",
          "2016-03-16",
          "2016-03-17",
          "2016-03-18",
          "2016-03-19",
          "2016-03-20",
          "2016-03-21",
          "2016-03-22",
          "2016-03-23",
          "2016-03-24",
          "2016-03-25",
          "2016-03-26",
          "2016-03-27",
          "2016-03-28",
          "2016-03-29",
          "2016-03-30",
          "2016-03-31",
          "2016-04-01",
          "2016-04-02",
          "2016-04-03",
          "2016-04-04",
          "2016-04-05",
          "2016-04-06",
          "2016-04-07",
          "2016-04-08",
          "2016-04-09",
          "2016-04-10",
          "2016-04-11",
          "2016-04-12",
          "2016-04-13",
          "2016-04-14",
          "2016-04-15",
          "2016-04-16",
          "2016-04-17",
          "2016-04-18",
          "2016-04-19",
          "2016-04-20",
          "2016-04-21",
          "2016-04-22",
          "2016-04-23",
          "2016-04-24",
          "2016-04-25",
          "2016-04-26",
          "2016-04-27",
          "2016-04-28",
          "2016-04-29",
          "2016-04-30",
          "2016-05-01",
          "2016-05-02",
          "2016-05-03",
          "2016-05-04",
          "2016-05-05",
          "2016-05-06",
          "2016-05-07",
          "2016-05-08",
          "2016-05-09",
          "2016-05-10",
          "2016-05-11",
          "2016-05-12",
          "2016-05-13",
          "2016-05-14",
          "2016-05-15",
          "2016-05-16",
          "2016-05-17",
          "2016-05-18",
          "2016-05-19",
          "2016-05-20",
          "2016-05-21",
          "2016-05-22",
          "2016-05-23",
          "2016-05-24",
          "2016-05-25",
          "2016-05-26",
          "2016-05-27",
          "2016-05-28",
          "2016-05-29",
          "2016-05-30",
          "2016-05-31",
          "2016-06-01",
          "2016-06-02",
          "2016-06-03",
          "2016-06-04",
          "2016-06-05",
          "2016-06-06",
          "2016-06-07",
          "2016-06-08",
          "2016-06-09",
          "2016-06-10",
          "2016-06-11",
          "2016-06-12",
          "2016-06-13",
          "2016-06-14",
          "2016-06-15",
          "2016-06-16",
          "2016-06-17",
          "2016-06-18",
          "2016-06-19",
          "2016-06-20",
          "2016-06-21",
          "2016-06-22",
          "2016-06-23",
          "2016-06-24",
          "2016-06-25",
          "2016-06-26",
          "2016-06-27",
          "2016-06-28",
          "2016-06-29",
          "2016-06-30",
          "2016-07-01",
          "2016-07-02",
          "2016-07-03",
          "2016-07-04",
          "2016-07-05",
          "2016-07-06",
          "2016-07-07",
          "2016-07-08",
          "2016-07-09",
          "2016-07-10",
          "2016-07-11",
          "2016-07-12",
          "2016-07-13",
          "2016-07-14",
          "2016-07-15",
          "2016-07-16",
          "2016-07-17",
          "2016-07-18",
          "2016-07-19",
          "2016-07-20",
          "2016-07-21",
          "2016-07-22",
          "2016-07-23",
          "2016-07-24",
          "2016-07-25",
          "2016-07-26",
          "2016-07-27",
          "2016-07-28",
          "2016-07-29",
          "2016-07-30",
          "2016-07-31",
          "2016-08-01",
          "2016-08-02",
          "2016-08-03",
          "2016-08-04",
          "2016-08-05",
          "2016-08-06",
          "2016-08-07",
          "2016-08-08",
          "2016-08-09",
          "2016-08-10",
          "2016-08-11",
          "2016-08-12",
          "2016-08-13",
          "2016-08-14",
          "2016-08-15",
          "2016-08-16",
          "2016-08-17",
          "2016-08-18",
          "2016-08-19",
          "2016-08-20",
          "2016-08-21",
          "2016-08-22",
          "2016-08-23",
          "2016-08-24",
          "2016-08-25",
          "2016-08-26",
          "2016-08-27",
          "2016-08-28",
          "2016-08-29",
          "2016-08-30",
          "2016-08-31",
          "2016-09-01",
          "2016-09-02",
          "2016-09-03",
          "2016-09-04",
          "2016-09-05",
          "2016-09-06",
          "2016-09-07",
          "2016-09-08",
          "2016-09-09",
          "2016-09-10",
          "2016-09-11",
          "2016-09-12",
          "2016-09-13",
          "2016-09-14",
          "2016-09-15",
          "2016-09-16",
          "2016-09-17",
          "2016-09-18",
          "2016-09-19",
          "2016-09-20",
          "2016-09-21",
          "2016-09-22",
          "2016-09-23",
          "2016-09-24",
          "2016-09-25",
          "2016-09-26",
          "2016-09-27"
         ],
         "xaxis": "x",
         "y": [
          0.5691999999999999,
          0.23140000000000002,
          -0.10704999999999998,
          0.4405307692307692,
          0.5000600000000001,
          0.3432769230769231,
          0.2796636363636364,
          0.2854083333333333,
          -0.07382,
          0.06414285714285715,
          0.44738000000000006,
          0.21508181818181818,
          0.09451666666666665,
          0.6809857142857142,
          0.3192117647058823,
          0.40910769230769234,
          -0.030769230769230764,
          0.061706666666666674,
          0.32762399999999997,
          0.29291052631578945,
          0.09777391304347827,
          0.053836666666666665,
          0.08014444444444445,
          0.1280137931034483,
          0.37796,
          0.35463846153846157,
          0.20085882352941176,
          0.45475,
          0.51201875,
          -0.17775333333333335,
          0.1208111111111111,
          0.25238333333333335,
          0.0010200000000000098,
          0.342125,
          0.2609181818181818,
          0.3138533333333334,
          0.2564222222222223,
          -0.09097692307692307,
          -0.1156833333333333,
          0.23406399999999997,
          0.14978421052631577,
          0.02327777777777778,
          0.49307,
          -0.11490588235294119,
          0.1790153846153846,
          0.3350235294117647,
          0.05636666666666666,
          0.32602000000000003,
          -0.24834444444444445,
          0.25131724137931033,
          0.14884285714285714,
          0.1524375,
          0.2002576923076923,
          0.26129473684210525,
          0.07432962962962965,
          0.38436363636363635,
          0.38748333333333335,
          0.2360125,
          0.2642947368421053,
          0.07371666666666668,
          0.28765555555555555,
          0.11834000000000001,
          0.036021428571428586,
          0.19388235294117645,
          0.17973,
          -0.3119,
          0.4435333333333334,
          0.15521176470588238,
          -0.20035454545454545,
          0.2051857142857143,
          0.0330607142857143,
          0.40477307692307696,
          -0.03787692307692309,
          -0.18074666666666667,
          0.30838846153846156,
          0.2661733333333333,
          -0.3612,
          -0.12784615384615383,
          0.039200000000000006,
          -0.11180399999999999,
          -0.7579,
          0.1802692307692308,
          0.18293750000000003,
          0.0630181818181818,
          0.16018,
          0.3167714285714286,
          0.45427142857142855,
          0.15725555555555557,
          0.2303222222222222,
          0.37853846153846155,
          0.6170333333333333,
          0.25998333333333334,
          0.8481,
          0.16820000000000002,
          0.2508384615384615,
          0.4314769230769231,
          0.03832142857142858,
          0.42584285714285713,
          0.57306,
          0.5638,
          0.3519833333333333,
          0.44910000000000005,
          0.4258357142857143,
          0.3582444444444445,
          -0.13806000000000002,
          0.23602857142857145,
          0.31946,
          0.3328428571428571,
          0.5478000000000001,
          0.2697777777777778,
          0.5674875,
          -0.032663636363636346,
          0.21569285714285716,
          0.45705333333333337,
          0.4413666666666667,
          0.1883111111111111,
          0.24528,
          0.2568444444444445,
          0.4516,
          0.4462916666666667,
          0.37938571428571427,
          0.0548,
          0.29904285714285717,
          0.025662500000000005,
          0.3234666666666667,
          0.14945,
          0.21176875,
          0.06306,
          0.6911499999999999,
          0.3457333333333333,
          -0.1541,
          0.0385,
          -0.2561857142857143,
          -0.06115555555555555,
          0.3946954545454545,
          0.26799999999999996,
          0.2873466666666667,
          -0.13134,
          -0.05231818181818184,
          0.17922500000000002,
          0.14798000000000003,
          0.3596235294117647,
          0.1611625,
          0.625,
          0.09285454545454544,
          0.5673333333333334,
          0.21391538461538462,
          0.4385444444444444,
          -0.48456666666666665,
          0.0875857142857143,
          0.40577500000000005,
          0.3242555555555555,
          -0.5958,
          0.06693,
          0.163725,
          0.2424222222222222,
          0.31083076923076924,
          0.35133846153846154,
          0.0963,
          -0.2130375,
          -0.15192499999999998,
          0.36588571428571426,
          0.056688888888888886,
          0.23724285714285712,
          0.34979999999999994,
          0.43404,
          -0.02516666666666667,
          0.28405,
          -0.30405,
          0.07073333333333336,
          0.30763888888888885,
          0.35041428571428573,
          0.06986,
          -0.10063529411764706,
          -0.26586666666666664,
          -0.10909999999999999,
          0.2833777777777778,
          0.24141818181818178,
          -0.1230888888888889,
          0.04736153846153846,
          -0.032062499999999994,
          -0.05007692307692307,
          -0.028360000000000007,
          -0.1295375,
          0.32058,
          -0.40499999999999997,
          0.61505,
          -0.29855,
          0.19695000000000001,
          0.028646153846153852,
          0.14719333333333334,
          0.04245000000000001,
          -0.071275,
          0.06988571428571429,
          -0.03145882352941176,
          0.32592,
          0.6751400000000001,
          0.381,
          0.5079750000000001,
          0.46334285714285717,
          -0.18856875,
          -0.12224117647058824,
          0.06299999999999999,
          -0.12411333333333333,
          0.02782777777777777,
          0.18789333333333333,
          -0.19222142857142857,
          0.017852,
          -0.18333999999999998,
          0.003371428571428572,
          0.08116153846153845,
          0.43542857142857144,
          0.5037,
          -0.11602000000000001,
          -0.2056875,
          -0.08837142857142857,
          0.2685230769230769,
          0.4102727272727273,
          -0.047535714285714285,
          0.238325,
          0.006370000000000009,
          0.6070875,
          -0.257475,
          0.08333333333333333,
          -0.24169999999999997,
          0.05641111111111111,
          0,
          0.3023,
          0.19524444444444444,
          0.6452,
          0.09323076923076923,
          0.07666249999999998,
          0.417975,
          -0.05100000000000001,
          0.0049263157894737,
          0.0018749999999999878,
          0.2705555555555555,
          -0.42075555555555555,
          0.18941666666666668,
          0.2404,
          0.39132,
          0.38645,
          0.339175,
          0.025566666666666668,
          0.024472727272727268,
          0.35709,
          0.32611666666666667,
          0.3666153846153846,
          0.045579999999999996,
          0.11569999999999998,
          -0.88,
          0.18183333333333332,
          0.4313125,
          0.4041916666666667,
          0.40246,
          0.6036,
          -0.15771428571428572,
          0.4432666666666667,
          0.07442222222222222,
          0.32047,
          0.35085714285714287,
          0.4136,
          0.11285714285714286,
          0.22811428571428571,
          0.046725,
          0.10708333333333332,
          0.25809215686274506
         ],
         "yaxis": "y"
        },
        {
         "hovertemplate": "handle=HillaryClinton<br>Date=%{x}<br>Average Sentiment=%{y}<extra></extra>",
         "legendgroup": "HillaryClinton",
         "line": {
          "color": "#EF553B",
          "dash": "solid"
         },
         "marker": {
          "symbol": "circle"
         },
         "mode": "lines",
         "name": "HillaryClinton",
         "orientation": "v",
         "showlegend": true,
         "type": "scatter",
         "x": [
          "2016-04-17",
          "2016-04-18",
          "2016-04-19",
          "2016-04-20",
          "2016-04-21",
          "2016-04-22",
          "2016-04-23",
          "2016-04-24",
          "2016-04-25",
          "2016-04-26",
          "2016-04-27",
          "2016-04-28",
          "2016-04-29",
          "2016-04-30",
          "2016-05-01",
          "2016-05-02",
          "2016-05-03",
          "2016-05-04",
          "2016-05-05",
          "2016-05-06",
          "2016-05-07",
          "2016-05-08",
          "2016-05-09",
          "2016-05-10",
          "2016-05-11",
          "2016-05-12",
          "2016-05-13",
          "2016-05-14",
          "2016-05-15",
          "2016-05-16",
          "2016-05-17",
          "2016-05-18",
          "2016-05-19",
          "2016-05-20",
          "2016-05-21",
          "2016-05-22",
          "2016-05-23",
          "2016-05-24",
          "2016-05-25",
          "2016-05-26",
          "2016-05-27",
          "2016-05-28",
          "2016-05-29",
          "2016-05-30",
          "2016-05-31",
          "2016-06-01",
          "2016-06-02",
          "2016-06-03",
          "2016-06-04",
          "2016-06-05",
          "2016-06-06",
          "2016-06-07",
          "2016-06-08",
          "2016-06-09",
          "2016-06-10",
          "2016-06-11",
          "2016-06-12",
          "2016-06-13",
          "2016-06-14",
          "2016-06-15",
          "2016-06-16",
          "2016-06-17",
          "2016-06-18",
          "2016-06-19",
          "2016-06-20",
          "2016-06-21",
          "2016-06-22",
          "2016-06-23",
          "2016-06-24",
          "2016-06-25",
          "2016-06-26",
          "2016-06-27",
          "2016-06-28",
          "2016-06-29",
          "2016-06-30",
          "2016-07-01",
          "2016-07-02",
          "2016-07-03",
          "2016-07-04",
          "2016-07-05",
          "2016-07-06",
          "2016-07-07",
          "2016-07-08",
          "2016-07-09",
          "2016-07-10",
          "2016-07-11",
          "2016-07-12",
          "2016-07-13",
          "2016-07-14",
          "2016-07-15",
          "2016-07-16",
          "2016-07-17",
          "2016-07-18",
          "2016-07-19",
          "2016-07-20",
          "2016-07-21",
          "2016-07-22",
          "2016-07-23",
          "2016-07-24",
          "2016-07-25",
          "2016-07-26",
          "2016-07-27",
          "2016-07-28",
          "2016-07-29",
          "2016-07-30",
          "2016-07-31",
          "2016-08-01",
          "2016-08-02",
          "2016-08-03",
          "2016-08-04",
          "2016-08-05",
          "2016-08-06",
          "2016-08-07",
          "2016-08-08",
          "2016-08-09",
          "2016-08-10",
          "2016-08-11",
          "2016-08-12",
          "2016-08-13",
          "2016-08-14",
          "2016-08-15",
          "2016-08-16",
          "2016-08-17",
          "2016-08-18",
          "2016-08-19",
          "2016-08-20",
          "2016-08-21",
          "2016-08-22",
          "2016-08-23",
          "2016-08-24",
          "2016-08-25",
          "2016-08-26",
          "2016-08-27",
          "2016-08-28",
          "2016-08-29",
          "2016-08-30",
          "2016-08-31",
          "2016-09-01",
          "2016-09-02",
          "2016-09-03",
          "2016-09-04",
          "2016-09-05",
          "2016-09-06",
          "2016-09-07",
          "2016-09-08",
          "2016-09-09",
          "2016-09-10",
          "2016-09-11",
          "2016-09-12",
          "2016-09-13",
          "2016-09-14",
          "2016-09-15",
          "2016-09-16",
          "2016-09-17",
          "2016-09-18",
          "2016-09-19",
          "2016-09-20",
          "2016-09-21",
          "2016-09-22",
          "2016-09-23",
          "2016-09-24",
          "2016-09-25",
          "2016-09-26",
          "2016-09-27",
          "2016-09-28"
         ],
         "xaxis": "x",
         "y": [
          0.4501,
          0.027621428571428564,
          0.09962,
          0.23649583333333335,
          -0.18069000000000002,
          0.19872307692307695,
          0.16286,
          0.03852500000000002,
          0.39498,
          -0.08768124999999999,
          0.1558275,
          -0.15975555555555554,
          -0.12630833333333333,
          -0.08504,
          0.19834285714285713,
          0.08815882352941176,
          0.171875,
          -0.09868235294117647,
          0.008166666666666674,
          0.10838888888888891,
          0.26394285714285715,
          0.45836000000000005,
          0.11993333333333335,
          -0.1851,
          -0.1009,
          0.2758928571428571,
          0.32332727272727274,
          0.10284,
          -0.03573333333333333,
          0.0049999999999999906,
          0.06366,
          0.305425,
          -0.04066315789473684,
          -0.07844444444444444,
          -0.1687166666666667,
          0.14596,
          0.13663846153846154,
          -0.057247058823529394,
          0.2244142857142857,
          0.13947142857142855,
          -0.04781428571428571,
          -0.160125,
          0.4775333333333333,
          0.424075,
          -0.05260833333333333,
          -0.17667499999999997,
          0.06355714285714284,
          0.09784117647058824,
          0.04932307692307694,
          0.0745375,
          -0.0838625,
          0.3313307692307692,
          0.3118861111111111,
          0.3263894736842105,
          0.3651625,
          -0.03932000000000001,
          -0.2457555555555556,
          -0.44975882352941177,
          -0.1405846153846154,
          -0.045771428571428574,
          0.13649999999999998,
          0.2713777777777778,
          0.19445714285714286,
          0.24516,
          -0.1105090909090909,
          0.016058064516129032,
          0.10985357142857143,
          0.15532631578947367,
          0.23036923076923077,
          0.45780000000000004,
          0.13487,
          0.016565517241379304,
          0.06516875000000001,
          0.25671875,
          0.14444166666666666,
          0.1405,
          0.33782,
          -0.06368333333333333,
          0.4671,
          0.17661612903225804,
          0.026522222222222225,
          -0.22190000000000001,
          -0.019311111111111105,
          0.36495000000000005,
          0.09924000000000002,
          0.14985,
          0.16588648648648646,
          0.06327931034482759,
          0.04922962962962963,
          -0.034399999999999986,
          -0.013457142857142852,
          0.1272,
          0.02071724137931035,
          -0.023634482758620685,
          0.11434827586206897,
          0.06227142857142857,
          0.18199807692307693,
          0.2765037735849057,
          0.29070833333333335,
          0.16651851851851854,
          0.21526025641025642,
          0.14778840579710145,
          0.21268715596330276,
          0.227063,
          0.27320526315789473,
          0.28967272727272725,
          0.16983846153846155,
          0.10463125,
          -0.0966375,
          0.19269375,
          0.19081304347826086,
          0.17853333333333332,
          0.27135714285714285,
          0.037767999999999996,
          0.03610000000000001,
          0.2516842105263158,
          0.188915,
          0.05219333333333334,
          0.4990833333333333,
          0.5163666666666666,
          0.12789772727272727,
          0.06375,
          0.18188000000000001,
          0.23949375,
          0.1185125,
          0.19805555555555554,
          0.17192222222222223,
          -0.15737272727272725,
          0.24332,
          0.07150000000000001,
          0.08388478260869565,
          0.15184999999999998,
          0.2623166666666667,
          0.1566625,
          0.046783333333333336,
          -0.0051538461538461625,
          0.04338148148148148,
          0.014722727272727281,
          -0.23006666666666667,
          0.0969875,
          -0.07342,
          0.20411,
          0.1323,
          0.05482083333333334,
          0.13598181818181818,
          0.08621999999999999,
          0.21009000000000003,
          0.2956166666666667,
          0.16153333333333333,
          -0.010056097560975606,
          0.07929024390243902,
          0.20339117647058824,
          0.02562615384615385,
          0.09863846153846155,
          0.10207777777777777,
          0.16699,
          0.07308666666666667,
          0.3207103448275862,
          0.11348125,
          0.09340625,
          0.2206,
          0.24942857142857142,
          0.0993857142857143,
          0.11795052631578946,
          0.4404
         ],
         "yaxis": "y"
        }
       ],
       "layout": {
        "legend": {
         "title": {
          "text": "handle"
         },
         "tracegroupgap": 0
        },
        "template": {
         "data": {
          "bar": [
           {
            "error_x": {
             "color": "#2a3f5f"
            },
            "error_y": {
             "color": "#2a3f5f"
            },
            "marker": {
             "line": {
              "color": "#E5ECF6",
              "width": 0.5
             },
             "pattern": {
              "fillmode": "overlay",
              "size": 10,
              "solidity": 0.2
             }
            },
            "type": "bar"
           }
          ],
          "barpolar": [
           {
            "marker": {
             "line": {
              "color": "#E5ECF6",
              "width": 0.5
             },
             "pattern": {
              "fillmode": "overlay",
              "size": 10,
              "solidity": 0.2
             }
            },
            "type": "barpolar"
           }
          ],
          "carpet": [
           {
            "aaxis": {
             "endlinecolor": "#2a3f5f",
             "gridcolor": "white",
             "linecolor": "white",
             "minorgridcolor": "white",
             "startlinecolor": "#2a3f5f"
            },
            "baxis": {
             "endlinecolor": "#2a3f5f",
             "gridcolor": "white",
             "linecolor": "white",
             "minorgridcolor": "white",
             "startlinecolor": "#2a3f5f"
            },
            "type": "carpet"
           }
          ],
          "choropleth": [
           {
            "colorbar": {
             "outlinewidth": 0,
             "ticks": ""
            },
            "type": "choropleth"
           }
          ],
          "contour": [
           {
            "colorbar": {
             "outlinewidth": 0,
             "ticks": ""
            },
            "colorscale": [
             [
              0,
              "#0d0887"
             ],
             [
              0.1111111111111111,
              "#46039f"
             ],
             [
              0.2222222222222222,
              "#7201a8"
             ],
             [
              0.3333333333333333,
              "#9c179e"
             ],
             [
              0.4444444444444444,
              "#bd3786"
             ],
             [
              0.5555555555555556,
              "#d8576b"
             ],
             [
              0.6666666666666666,
              "#ed7953"
             ],
             [
              0.7777777777777778,
              "#fb9f3a"
             ],
             [
              0.8888888888888888,
              "#fdca26"
             ],
             [
              1,
              "#f0f921"
             ]
            ],
            "type": "contour"
           }
          ],
          "contourcarpet": [
           {
            "colorbar": {
             "outlinewidth": 0,
             "ticks": ""
            },
            "type": "contourcarpet"
           }
          ],
          "heatmap": [
           {
            "colorbar": {
             "outlinewidth": 0,
             "ticks": ""
            },
            "colorscale": [
             [
              0,
              "#0d0887"
             ],
             [
              0.1111111111111111,
              "#46039f"
             ],
             [
              0.2222222222222222,
              "#7201a8"
             ],
             [
              0.3333333333333333,
              "#9c179e"
             ],
             [
              0.4444444444444444,
              "#bd3786"
             ],
             [
              0.5555555555555556,
              "#d8576b"
             ],
             [
              0.6666666666666666,
              "#ed7953"
             ],
             [
              0.7777777777777778,
              "#fb9f3a"
             ],
             [
              0.8888888888888888,
              "#fdca26"
             ],
             [
              1,
              "#f0f921"
             ]
            ],
            "type": "heatmap"
           }
          ],
          "heatmapgl": [
           {
            "colorbar": {
             "outlinewidth": 0,
             "ticks": ""
            },
            "colorscale": [
             [
              0,
              "#0d0887"
             ],
             [
              0.1111111111111111,
              "#46039f"
             ],
             [
              0.2222222222222222,
              "#7201a8"
             ],
             [
              0.3333333333333333,
              "#9c179e"
             ],
             [
              0.4444444444444444,
              "#bd3786"
             ],
             [
              0.5555555555555556,
              "#d8576b"
             ],
             [
              0.6666666666666666,
              "#ed7953"
             ],
             [
              0.7777777777777778,
              "#fb9f3a"
             ],
             [
              0.8888888888888888,
              "#fdca26"
             ],
             [
              1,
              "#f0f921"
             ]
            ],
            "type": "heatmapgl"
           }
          ],
          "histogram": [
           {
            "marker": {
             "pattern": {
              "fillmode": "overlay",
              "size": 10,
              "solidity": 0.2
             }
            },
            "type": "histogram"
           }
          ],
          "histogram2d": [
           {
            "colorbar": {
             "outlinewidth": 0,
             "ticks": ""
            },
            "colorscale": [
             [
              0,
              "#0d0887"
             ],
             [
              0.1111111111111111,
              "#46039f"
             ],
             [
              0.2222222222222222,
              "#7201a8"
             ],
             [
              0.3333333333333333,
              "#9c179e"
             ],
             [
              0.4444444444444444,
              "#bd3786"
             ],
             [
              0.5555555555555556,
              "#d8576b"
             ],
             [
              0.6666666666666666,
              "#ed7953"
             ],
             [
              0.7777777777777778,
              "#fb9f3a"
             ],
             [
              0.8888888888888888,
              "#fdca26"
             ],
             [
              1,
              "#f0f921"
             ]
            ],
            "type": "histogram2d"
           }
          ],
          "histogram2dcontour": [
           {
            "colorbar": {
             "outlinewidth": 0,
             "ticks": ""
            },
            "colorscale": [
             [
              0,
              "#0d0887"
             ],
             [
              0.1111111111111111,
              "#46039f"
             ],
             [
              0.2222222222222222,
              "#7201a8"
             ],
             [
              0.3333333333333333,
              "#9c179e"
             ],
             [
              0.4444444444444444,
              "#bd3786"
             ],
             [
              0.5555555555555556,
              "#d8576b"
             ],
             [
              0.6666666666666666,
              "#ed7953"
             ],
             [
              0.7777777777777778,
              "#fb9f3a"
             ],
             [
              0.8888888888888888,
              "#fdca26"
             ],
             [
              1,
              "#f0f921"
             ]
            ],
            "type": "histogram2dcontour"
           }
          ],
          "mesh3d": [
           {
            "colorbar": {
             "outlinewidth": 0,
             "ticks": ""
            },
            "type": "mesh3d"
           }
          ],
          "parcoords": [
           {
            "line": {
             "colorbar": {
              "outlinewidth": 0,
              "ticks": ""
             }
            },
            "type": "parcoords"
           }
          ],
          "pie": [
           {
            "automargin": true,
            "type": "pie"
           }
          ],
          "scatter": [
           {
            "fillpattern": {
             "fillmode": "overlay",
             "size": 10,
             "solidity": 0.2
            },
            "type": "scatter"
           }
          ],
          "scatter3d": [
           {
            "line": {
             "colorbar": {
              "outlinewidth": 0,
              "ticks": ""
             }
            },
            "marker": {
             "colorbar": {
              "outlinewidth": 0,
              "ticks": ""
             }
            },
            "type": "scatter3d"
           }
          ],
          "scattercarpet": [
           {
            "marker": {
             "colorbar": {
              "outlinewidth": 0,
              "ticks": ""
             }
            },
            "type": "scattercarpet"
           }
          ],
          "scattergeo": [
           {
            "marker": {
             "colorbar": {
              "outlinewidth": 0,
              "ticks": ""
             }
            },
            "type": "scattergeo"
           }
          ],
          "scattergl": [
           {
            "marker": {
             "colorbar": {
              "outlinewidth": 0,
              "ticks": ""
             }
            },
            "type": "scattergl"
           }
          ],
          "scattermapbox": [
           {
            "marker": {
             "colorbar": {
              "outlinewidth": 0,
              "ticks": ""
             }
            },
            "type": "scattermapbox"
           }
          ],
          "scatterpolar": [
           {
            "marker": {
             "colorbar": {
              "outlinewidth": 0,
              "ticks": ""
             }
            },
            "type": "scatterpolar"
           }
          ],
          "scatterpolargl": [
           {
            "marker": {
             "colorbar": {
              "outlinewidth": 0,
              "ticks": ""
             }
            },
            "type": "scatterpolargl"
           }
          ],
          "scatterternary": [
           {
            "marker": {
             "colorbar": {
              "outlinewidth": 0,
              "ticks": ""
             }
            },
            "type": "scatterternary"
           }
          ],
          "surface": [
           {
            "colorbar": {
             "outlinewidth": 0,
             "ticks": ""
            },
            "colorscale": [
             [
              0,
              "#0d0887"
             ],
             [
              0.1111111111111111,
              "#46039f"
             ],
             [
              0.2222222222222222,
              "#7201a8"
             ],
             [
              0.3333333333333333,
              "#9c179e"
             ],
             [
              0.4444444444444444,
              "#bd3786"
             ],
             [
              0.5555555555555556,
              "#d8576b"
             ],
             [
              0.6666666666666666,
              "#ed7953"
             ],
             [
              0.7777777777777778,
              "#fb9f3a"
             ],
             [
              0.8888888888888888,
              "#fdca26"
             ],
             [
              1,
              "#f0f921"
             ]
            ],
            "type": "surface"
           }
          ],
          "table": [
           {
            "cells": {
             "fill": {
              "color": "#EBF0F8"
             },
             "line": {
              "color": "white"
             }
            },
            "header": {
             "fill": {
              "color": "#C8D4E3"
             },
             "line": {
              "color": "white"
             }
            },
            "type": "table"
           }
          ]
         },
         "layout": {
          "annotationdefaults": {
           "arrowcolor": "#2a3f5f",
           "arrowhead": 0,
           "arrowwidth": 1
          },
          "autotypenumbers": "strict",
          "coloraxis": {
           "colorbar": {
            "outlinewidth": 0,
            "ticks": ""
           }
          },
          "colorscale": {
           "diverging": [
            [
             0,
             "#8e0152"
            ],
            [
             0.1,
             "#c51b7d"
            ],
            [
             0.2,
             "#de77ae"
            ],
            [
             0.3,
             "#f1b6da"
            ],
            [
             0.4,
             "#fde0ef"
            ],
            [
             0.5,
             "#f7f7f7"
            ],
            [
             0.6,
             "#e6f5d0"
            ],
            [
             0.7,
             "#b8e186"
            ],
            [
             0.8,
             "#7fbc41"
            ],
            [
             0.9,
             "#4d9221"
            ],
            [
             1,
             "#276419"
            ]
           ],
           "sequential": [
            [
             0,
             "#0d0887"
            ],
            [
             0.1111111111111111,
             "#46039f"
            ],
            [
             0.2222222222222222,
             "#7201a8"
            ],
            [
             0.3333333333333333,
             "#9c179e"
            ],
            [
             0.4444444444444444,
             "#bd3786"
            ],
            [
             0.5555555555555556,
             "#d8576b"
            ],
            [
             0.6666666666666666,
             "#ed7953"
            ],
            [
             0.7777777777777778,
             "#fb9f3a"
            ],
            [
             0.8888888888888888,
             "#fdca26"
            ],
            [
             1,
             "#f0f921"
            ]
           ],
           "sequentialminus": [
            [
             0,
             "#0d0887"
            ],
            [
             0.1111111111111111,
             "#46039f"
            ],
            [
             0.2222222222222222,
             "#7201a8"
            ],
            [
             0.3333333333333333,
             "#9c179e"
            ],
            [
             0.4444444444444444,
             "#bd3786"
            ],
            [
             0.5555555555555556,
             "#d8576b"
            ],
            [
             0.6666666666666666,
             "#ed7953"
            ],
            [
             0.7777777777777778,
             "#fb9f3a"
            ],
            [
             0.8888888888888888,
             "#fdca26"
            ],
            [
             1,
             "#f0f921"
            ]
           ]
          },
          "colorway": [
           "#636efa",
           "#EF553B",
           "#00cc96",
           "#ab63fa",
           "#FFA15A",
           "#19d3f3",
           "#FF6692",
           "#B6E880",
           "#FF97FF",
           "#FECB52"
          ],
          "font": {
           "color": "#2a3f5f"
          },
          "geo": {
           "bgcolor": "white",
           "lakecolor": "white",
           "landcolor": "#E5ECF6",
           "showlakes": true,
           "showland": true,
           "subunitcolor": "white"
          },
          "hoverlabel": {
           "align": "left"
          },
          "hovermode": "closest",
          "mapbox": {
           "style": "light"
          },
          "paper_bgcolor": "white",
          "plot_bgcolor": "#E5ECF6",
          "polar": {
           "angularaxis": {
            "gridcolor": "white",
            "linecolor": "white",
            "ticks": ""
           },
           "bgcolor": "#E5ECF6",
           "radialaxis": {
            "gridcolor": "white",
            "linecolor": "white",
            "ticks": ""
           }
          },
          "scene": {
           "xaxis": {
            "backgroundcolor": "#E5ECF6",
            "gridcolor": "white",
            "gridwidth": 2,
            "linecolor": "white",
            "showbackground": true,
            "ticks": "",
            "zerolinecolor": "white"
           },
           "yaxis": {
            "backgroundcolor": "#E5ECF6",
            "gridcolor": "white",
            "gridwidth": 2,
            "linecolor": "white",
            "showbackground": true,
            "ticks": "",
            "zerolinecolor": "white"
           },
           "zaxis": {
            "backgroundcolor": "#E5ECF6",
            "gridcolor": "white",
            "gridwidth": 2,
            "linecolor": "white",
            "showbackground": true,
            "ticks": "",
            "zerolinecolor": "white"
           }
          },
          "shapedefaults": {
           "line": {
            "color": "#2a3f5f"
           }
          },
          "ternary": {
           "aaxis": {
            "gridcolor": "white",
            "linecolor": "white",
            "ticks": ""
           },
           "baxis": {
            "gridcolor": "white",
            "linecolor": "white",
            "ticks": ""
           },
           "bgcolor": "#E5ECF6",
           "caxis": {
            "gridcolor": "white",
            "linecolor": "white",
            "ticks": ""
           }
          },
          "title": {
           "x": 0.05
          },
          "xaxis": {
           "automargin": true,
           "gridcolor": "white",
           "linecolor": "white",
           "ticks": "",
           "title": {
            "standoff": 15
           },
           "zerolinecolor": "white",
           "zerolinewidth": 2
          },
          "yaxis": {
           "automargin": true,
           "gridcolor": "white",
           "linecolor": "white",
           "ticks": "",
           "title": {
            "standoff": 15
           },
           "zerolinecolor": "white",
           "zerolinewidth": 2
          }
         }
        },
        "title": {
         "text": "Sentiment Over Time by Handle"
        },
        "xaxis": {
         "anchor": "y",
         "domain": [
          0,
          1
         ],
         "rangeslider": {
          "visible": true
         },
         "title": {
          "text": "Date"
         }
        },
        "yaxis": {
         "anchor": "x",
         "domain": [
          0,
          1
         ],
         "title": {
          "text": "Average Sentiment"
         }
        }
       }
      }
     },
     "metadata": {},
     "output_type": "display_data"
    }
   ],
   "source": [
    "import plotly.express as px\n",
    "\n",
    "\n",
    "fig = px.line(date_sentiment, x='date', y='sentiment', color='handle',\n",
    "              title='Sentiment Over Time by Handle',\n",
    "              labels={'date': 'Date', 'sentiment': 'Average Sentiment'})\n",
    "fig.update_layout(xaxis_rangeslider_visible=True)  \n",
    "fig.show()\n"
   ]
  },
  {
   "cell_type": "code",
   "execution_count": 27,
   "metadata": {},
   "outputs": [
    {
     "data": {
      "text/plain": [
       "handle             0\n",
       "text               0\n",
       "is_retweet         0\n",
       "time               0\n",
       "is_quote_status    0\n",
       "lang               0\n",
       "retweet_count      0\n",
       "favorite_count     0\n",
       "truncated          0\n",
       "text_copy          0\n",
       "themes             0\n",
       "date               0\n",
       "cleaned_text       0\n",
       "sentiment          0\n",
       "dtype: int64"
      ]
     },
     "execution_count": 27,
     "metadata": {},
     "output_type": "execute_result"
    }
   ],
   "source": [
    "data.isna().sum()"
   ]
  },
  {
   "cell_type": "code",
   "execution_count": 28,
   "metadata": {},
   "outputs": [
    {
     "data": {
      "text/html": [
       "<div>\n",
       "<style scoped>\n",
       "    .dataframe tbody tr th:only-of-type {\n",
       "        vertical-align: middle;\n",
       "    }\n",
       "\n",
       "    .dataframe tbody tr th {\n",
       "        vertical-align: top;\n",
       "    }\n",
       "\n",
       "    .dataframe thead th {\n",
       "        text-align: right;\n",
       "    }\n",
       "</style>\n",
       "<table border=\"1\" class=\"dataframe\">\n",
       "  <thead>\n",
       "    <tr style=\"text-align: right;\">\n",
       "      <th></th>\n",
       "      <th>text</th>\n",
       "      <th>cleaned_text</th>\n",
       "      <th>themes</th>\n",
       "    </tr>\n",
       "  </thead>\n",
       "  <tbody>\n",
       "    <tr>\n",
       "      <th>0</th>\n",
       "      <td>The question in this election: Who can put the...</td>\n",
       "      <td>question vote put plan action make life better</td>\n",
       "      <td>[Election and Campaign, Appealling people to S...</td>\n",
       "    </tr>\n",
       "    <tr>\n",
       "      <th>1</th>\n",
       "      <td>Last night, Donald Trump said not paying taxes...</td>\n",
       "      <td>last night trump said not paying economy wa sm...</td>\n",
       "      <td>[Election and Campaign, Clinton's Criticism to...</td>\n",
       "    </tr>\n",
       "    <tr>\n",
       "      <th>2</th>\n",
       "      <td>Couldn't be more proud of @HillaryClinton. Her...</td>\n",
       "      <td>proud hillaryclinton vision command last night...</td>\n",
       "      <td>[Election and Campaign, Appealling people to S...</td>\n",
       "    </tr>\n",
       "    <tr>\n",
       "      <th>3</th>\n",
       "      <td>If we stand together, there's nothing we can't...</td>\n",
       "      <td>stand together nothing make sure ready vote</td>\n",
       "      <td>[Election and Campaign, Appealling people to S...</td>\n",
       "    </tr>\n",
       "    <tr>\n",
       "      <th>4</th>\n",
       "      <td>Both candidates were asked about how they'd co...</td>\n",
       "      <td>vote asked confront racial injustice one real ...</td>\n",
       "      <td>[Election and Campaign]</td>\n",
       "    </tr>\n",
       "  </tbody>\n",
       "</table>\n",
       "</div>"
      ],
      "text/plain": [
       "                                                text  \\\n",
       "0  The question in this election: Who can put the...   \n",
       "1  Last night, Donald Trump said not paying taxes...   \n",
       "2  Couldn't be more proud of @HillaryClinton. Her...   \n",
       "3  If we stand together, there's nothing we can't...   \n",
       "4  Both candidates were asked about how they'd co...   \n",
       "\n",
       "                                        cleaned_text  \\\n",
       "0     question vote put plan action make life better   \n",
       "1  last night trump said not paying economy wa sm...   \n",
       "2  proud hillaryclinton vision command last night...   \n",
       "3        stand together nothing make sure ready vote   \n",
       "4  vote asked confront racial injustice one real ...   \n",
       "\n",
       "                                              themes  \n",
       "0  [Election and Campaign, Appealling people to S...  \n",
       "1  [Election and Campaign, Clinton's Criticism to...  \n",
       "2  [Election and Campaign, Appealling people to S...  \n",
       "3  [Election and Campaign, Appealling people to S...  \n",
       "4                            [Election and Campaign]  "
      ]
     },
     "execution_count": 28,
     "metadata": {},
     "output_type": "execute_result"
    }
   ],
   "source": [
    "data['themes'].value_counts()\n",
    "data[['text','cleaned_text', 'themes']].head()"
   ]
  },
  {
   "cell_type": "code",
   "execution_count": 29,
   "metadata": {},
   "outputs": [
    {
     "name": "stdout",
     "output_type": "stream",
     "text": [
      "Unique themes: ['Election and Campaign' 'Appealling people to Support'\n",
      " \"Clinton's Criticism to media and Opponents\" 'American Patriotism'\n",
      " 'Economy and Jobs' \"Trump's Criticism to Media and Opponents\" 'Other'\n",
      " 'Social Issues (Women’s Rights, Kids, LGBT)' 'Family Wellness'\n",
      " 'Healthcare' 'Nation Security, Immigration, and Violence']\n",
      "Theme counts:\n",
      "themes\n",
      "Election and Campaign                         3610\n",
      "Other                                         1269\n",
      "American Patriotism                           1167\n",
      "Appealling people to Support                  1141\n",
      "Trump's Criticism to Media and Opponents       997\n",
      "Clinton's Criticism to media and Opponents     896\n",
      "Social Issues (Women’s Rights, Kids, LGBT)     522\n",
      "Economy and Jobs                               511\n",
      "Nation Security, Immigration, and Violence     336\n",
      "Family Wellness                                214\n",
      "Healthcare                                     114\n",
      "Name: count, dtype: int64\n"
     ]
    }
   ],
   "source": [
    "# 将每个主题拆分成单独的行\n",
    "expanded_themes = data['themes'].explode()\n",
    "\n",
    "# 查看所有唯一值\n",
    "unique_themes = expanded_themes.unique()\n",
    "print(\"Unique themes:\", unique_themes)\n",
    "\n",
    "# 计算每个主题的频率\n",
    "theme_counts = expanded_themes.value_counts()\n",
    "print(\"Theme counts:\")\n",
    "print(theme_counts)"
   ]
  },
  {
   "cell_type": "code",
   "execution_count": 30,
   "metadata": {},
   "outputs": [
    {
     "name": "stdout",
     "output_type": "stream",
     "text": [
      "Number of rows: 6248\n"
     ]
    }
   ],
   "source": [
    "row_count = len(data)\n",
    "print(\"Number of rows:\", row_count)"
   ]
  },
  {
   "cell_type": "code",
   "execution_count": 31,
   "metadata": {},
   "outputs": [
    {
     "data": {
      "text/html": [
       "<div>\n",
       "<style scoped>\n",
       "    .dataframe tbody tr th:only-of-type {\n",
       "        vertical-align: middle;\n",
       "    }\n",
       "\n",
       "    .dataframe tbody tr th {\n",
       "        vertical-align: top;\n",
       "    }\n",
       "\n",
       "    .dataframe thead th {\n",
       "        text-align: right;\n",
       "    }\n",
       "</style>\n",
       "<table border=\"1\" class=\"dataframe\">\n",
       "  <thead>\n",
       "    <tr style=\"text-align: right;\">\n",
       "      <th></th>\n",
       "      <th>handle</th>\n",
       "      <th>text</th>\n",
       "      <th>is_retweet</th>\n",
       "      <th>time</th>\n",
       "      <th>is_quote_status</th>\n",
       "      <th>lang</th>\n",
       "      <th>retweet_count</th>\n",
       "      <th>favorite_count</th>\n",
       "      <th>truncated</th>\n",
       "      <th>text_copy</th>\n",
       "      <th>themes</th>\n",
       "      <th>date</th>\n",
       "      <th>cleaned_text</th>\n",
       "      <th>sentiment</th>\n",
       "    </tr>\n",
       "  </thead>\n",
       "  <tbody>\n",
       "    <tr>\n",
       "      <th>0</th>\n",
       "      <td>HillaryClinton</td>\n",
       "      <td>The question in this election: Who can put the...</td>\n",
       "      <td>False</td>\n",
       "      <td>2016-09-28 00:22:34</td>\n",
       "      <td>False</td>\n",
       "      <td>en</td>\n",
       "      <td>218</td>\n",
       "      <td>651</td>\n",
       "      <td>False</td>\n",
       "      <td>question vote : put plans action ?</td>\n",
       "      <td>[Election and Campaign, Appealling people to S...</td>\n",
       "      <td>2016-09-28</td>\n",
       "      <td>question vote put plan action make life better</td>\n",
       "      <td>0.4404</td>\n",
       "    </tr>\n",
       "    <tr>\n",
       "      <th>1</th>\n",
       "      <td>HillaryClinton</td>\n",
       "      <td>Last night, Donald Trump said not paying taxes...</td>\n",
       "      <td>True</td>\n",
       "      <td>2016-09-27 23:45:00</td>\n",
       "      <td>False</td>\n",
       "      <td>en</td>\n",
       "      <td>2445</td>\n",
       "      <td>5308</td>\n",
       "      <td>False</td>\n",
       "      <td>last , trump paying taxes `` smart . '' call ?...</td>\n",
       "      <td>[Election and Campaign, Clinton's Criticism to...</td>\n",
       "      <td>2016-09-27</td>\n",
       "      <td>last night trump said not paying economy wa sm...</td>\n",
       "      <td>0.4019</td>\n",
       "    </tr>\n",
       "    <tr>\n",
       "      <th>2</th>\n",
       "      <td>HillaryClinton</td>\n",
       "      <td>Couldn't be more proud of @HillaryClinton. Her...</td>\n",
       "      <td>True</td>\n",
       "      <td>2016-09-27 23:26:40</td>\n",
       "      <td>False</td>\n",
       "      <td>en</td>\n",
       "      <td>7834</td>\n",
       "      <td>27234</td>\n",
       "      <td>False</td>\n",
       "      <td>could . vision command last vote showed ready ...</td>\n",
       "      <td>[Election and Campaign, Appealling people to S...</td>\n",
       "      <td>2016-09-27</td>\n",
       "      <td>proud hillaryclinton vision command last night...</td>\n",
       "      <td>0.7650</td>\n",
       "    </tr>\n",
       "    <tr>\n",
       "      <th>3</th>\n",
       "      <td>HillaryClinton</td>\n",
       "      <td>If we stand together, there's nothing we can't...</td>\n",
       "      <td>False</td>\n",
       "      <td>2016-09-27 23:08:41</td>\n",
       "      <td>False</td>\n",
       "      <td>en</td>\n",
       "      <td>916</td>\n",
       "      <td>2542</td>\n",
       "      <td>False</td>\n",
       "      <td>together , nothing . ready vote :</td>\n",
       "      <td>[Election and Campaign, Appealling people to S...</td>\n",
       "      <td>2016-09-27</td>\n",
       "      <td>stand together nothing make sure ready vote</td>\n",
       "      <td>-0.4717</td>\n",
       "    </tr>\n",
       "    <tr>\n",
       "      <th>4</th>\n",
       "      <td>HillaryClinton</td>\n",
       "      <td>Both candidates were asked about how they'd co...</td>\n",
       "      <td>False</td>\n",
       "      <td>2016-09-27 22:30:27</td>\n",
       "      <td>False</td>\n",
       "      <td>en</td>\n",
       "      <td>859</td>\n",
       "      <td>2882</td>\n",
       "      <td>False</td>\n",
       "      <td>candidates asked confront racial injustice . r...</td>\n",
       "      <td>[Election and Campaign]</td>\n",
       "      <td>2016-09-27</td>\n",
       "      <td>vote asked confront racial injustice one real ...</td>\n",
       "      <td>-0.6597</td>\n",
       "    </tr>\n",
       "  </tbody>\n",
       "</table>\n",
       "</div>"
      ],
      "text/plain": [
       "           handle                                               text  \\\n",
       "0  HillaryClinton  The question in this election: Who can put the...   \n",
       "1  HillaryClinton  Last night, Donald Trump said not paying taxes...   \n",
       "2  HillaryClinton  Couldn't be more proud of @HillaryClinton. Her...   \n",
       "3  HillaryClinton  If we stand together, there's nothing we can't...   \n",
       "4  HillaryClinton  Both candidates were asked about how they'd co...   \n",
       "\n",
       "   is_retweet                time  is_quote_status lang  retweet_count  \\\n",
       "0       False 2016-09-28 00:22:34            False   en            218   \n",
       "1        True 2016-09-27 23:45:00            False   en           2445   \n",
       "2        True 2016-09-27 23:26:40            False   en           7834   \n",
       "3       False 2016-09-27 23:08:41            False   en            916   \n",
       "4       False 2016-09-27 22:30:27            False   en            859   \n",
       "\n",
       "   favorite_count  truncated  \\\n",
       "0             651      False   \n",
       "1            5308      False   \n",
       "2           27234      False   \n",
       "3            2542      False   \n",
       "4            2882      False   \n",
       "\n",
       "                                           text_copy  \\\n",
       "0                 question vote : put plans action ?   \n",
       "1  last , trump paying taxes `` smart . '' call ?...   \n",
       "2  could . vision command last vote showed ready ...   \n",
       "3                  together , nothing . ready vote :   \n",
       "4  candidates asked confront racial injustice . r...   \n",
       "\n",
       "                                              themes        date  \\\n",
       "0  [Election and Campaign, Appealling people to S...  2016-09-28   \n",
       "1  [Election and Campaign, Clinton's Criticism to...  2016-09-27   \n",
       "2  [Election and Campaign, Appealling people to S...  2016-09-27   \n",
       "3  [Election and Campaign, Appealling people to S...  2016-09-27   \n",
       "4                            [Election and Campaign]  2016-09-27   \n",
       "\n",
       "                                        cleaned_text  sentiment  \n",
       "0     question vote put plan action make life better     0.4404  \n",
       "1  last night trump said not paying economy wa sm...     0.4019  \n",
       "2  proud hillaryclinton vision command last night...     0.7650  \n",
       "3        stand together nothing make sure ready vote    -0.4717  \n",
       "4  vote asked confront racial injustice one real ...    -0.6597  "
      ]
     },
     "execution_count": 31,
     "metadata": {},
     "output_type": "execute_result"
    }
   ],
   "source": [
    "data.head()"
   ]
  },
  {
   "cell_type": "code",
   "execution_count": 32,
   "metadata": {},
   "outputs": [],
   "source": [
    "data.to_excel('cleaned_tweets.xlsx', index=False)"
   ]
  },
  {
   "cell_type": "code",
   "execution_count": null,
   "metadata": {},
   "outputs": [],
   "source": []
  }
 ],
 "metadata": {
  "kernelspec": {
   "display_name": "Python 3",
   "language": "python",
   "name": "python3"
  },
  "language_info": {
   "codemirror_mode": {
    "name": "ipython",
    "version": 3
   },
   "file_extension": ".py",
   "mimetype": "text/x-python",
   "name": "python",
   "nbconvert_exporter": "python",
   "pygments_lexer": "ipython3",
   "version": "3.11.9"
  }
 },
 "nbformat": 4,
 "nbformat_minor": 4
}
